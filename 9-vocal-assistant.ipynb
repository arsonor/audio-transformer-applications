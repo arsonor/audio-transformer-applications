{
  "nbformat": 4,
  "nbformat_minor": 0,
  "metadata": {
    "colab": {
      "provenance": [],
      "authorship_tag": "ABX9TyOKqKlm5VS0qhj1MUbuc6hw"
    },
    "kernelspec": {
      "name": "python3",
      "display_name": "Python 3"
    },
    "language_info": {
      "name": "python"
    }
  },
  "cells": [
    {
      "cell_type": "markdown",
      "source": [
        "**1 - Wake word detection**"
      ],
      "metadata": {
        "id": "Wnj7Sf3p7vBn"
      }
    },
    {
      "cell_type": "code",
      "execution_count": 1,
      "metadata": {
        "colab": {
          "base_uri": "https://localhost:8080/",
          "height": 269,
          "referenced_widgets": [
            "9e429cb213bd4f8080c46f770dfe3b54",
            "bfa4188a36324327be59f940bae3fec2",
            "0df3dad0b6b34a01b8219e9ceb6a7ecb",
            "dca596e4396b4adba827feb6deea912a",
            "fe98a264b62d48f3bb7bbca155f5ecf3",
            "0a133260d5b141ee8f1c4fa814d02b6c",
            "599c57947b27421b8d98e2c32001e7d5",
            "9f83e68bcc084b2d86cb7bb8bb460176",
            "399105e78d2d4b7aa0f131e63c782181",
            "11aabea10ef24f19bdad83bbfe9b8d81",
            "2e8e6529b255486794de9b48ece418e4",
            "005f3f7196774d7fa3a8a99e4cd8a260",
            "a1cd5be149544d4091636a12d7c3cde0",
            "e75db48ee609459ca4dbc19a2e898960",
            "aac274550aa14fd5bfacc82b2c1936bd",
            "616027a9611b447883a50a554d9069e1",
            "0ddc66ff765d434b933c62732564af01",
            "f53d689b0313420d9e2dd8111ea66837",
            "bca5a4b810054bc38d4815931db0f717",
            "bc07cd68cf53427b970ec13963116bc6",
            "02a406b0a70d450ebc179fd154abda48",
            "ef2c920e535a42538afbf9f8971cbdf3",
            "5f6cc0c8169a45c9a2446b705f7449e9",
            "192187d663724a84853eac1b41a33607",
            "6aa08ecda71d495aab5700505c58d35f",
            "e5658c55c927408491b8ac389c800af7",
            "990bbc6937434c03bb8f6c98f35dd890",
            "20ac03d829154e5a8cb14b551c1b94e1",
            "f1a939e833424cc888e1dfb4c05ae401",
            "9061ca4931af42799723edbef9ea8f6b",
            "f979de72d9f1497085cf73cb5ba59c55",
            "d6c8e3268baa4d82b1ded1f393a8c200",
            "7da5bf348c6d48acbf5a7db1b79db9e3",
            "14526c91e1fb4c3d8c8630fe56e2a8d7",
            "78d530c50fa94e318cb08a17c8dbb4ce",
            "d712bd0d8c2b4e109e1a90e94ae33a80",
            "b972e88362574e86b768460c96ecfdb9",
            "1cb610ff6228434fa7f2d51303394dd2",
            "ec3c51e799424657ba3f80e40bea00ee",
            "7c49e1e93da4460e838aec6556718a70",
            "188a9048b37e45d78ebe594bb9505e54",
            "6b02e6546dc242b8a9feedbe0a94fe7e",
            "92f948f74c584ed58efa77510f2801f1",
            "4e49936530d146d98344389bbe3b33c4"
          ]
        },
        "id": "Qd6_cfHt5i1L",
        "executionInfo": {
          "status": "ok",
          "timestamp": 1758201038658,
          "user_tz": -120,
          "elapsed": 87151,
          "user": {
            "displayName": "Martin D.",
            "userId": "02541328456949819845"
          }
        },
        "outputId": "c3e830d2-b73a-4ec1-cdc3-44b78f5b3b95"
      },
      "outputs": [
        {
          "output_type": "stream",
          "name": "stderr",
          "text": [
            "/usr/local/lib/python3.12/dist-packages/huggingface_hub/utils/_auth.py:104: UserWarning: \n",
            "Error while fetching `HF_TOKEN` secret value from your vault: 'Requesting secret HF_TOKEN timed out. Secrets can only be fetched when running from the Colab UI.'.\n",
            "You are not authenticated with the Hugging Face Hub in this notebook.\n",
            "If the error persists, please let us know by opening an issue on GitHub (https://github.com/huggingface/huggingface_hub/issues/new).\n",
            "  warnings.warn(\n"
          ]
        },
        {
          "output_type": "display_data",
          "data": {
            "text/plain": [
              "config.json: 0.00B [00:00, ?B/s]"
            ],
            "application/vnd.jupyter.widget-view+json": {
              "version_major": 2,
              "version_minor": 0,
              "model_id": "9e429cb213bd4f8080c46f770dfe3b54"
            }
          },
          "metadata": {}
        },
        {
          "output_type": "display_data",
          "data": {
            "text/plain": [
              "model.safetensors:   0%|          | 0.00/342M [00:00<?, ?B/s]"
            ],
            "application/vnd.jupyter.widget-view+json": {
              "version_major": 2,
              "version_minor": 0,
              "model_id": "005f3f7196774d7fa3a8a99e4cd8a260"
            }
          },
          "metadata": {}
        },
        {
          "output_type": "display_data",
          "data": {
            "text/plain": [
              "Fetching 1 files:   0%|          | 0/1 [00:00<?, ?it/s]"
            ],
            "application/vnd.jupyter.widget-view+json": {
              "version_major": 2,
              "version_minor": 0,
              "model_id": "5f6cc0c8169a45c9a2446b705f7449e9"
            }
          },
          "metadata": {}
        },
        {
          "output_type": "display_data",
          "data": {
            "text/plain": [
              "preprocessor_config.json:   0%|          | 0.00/295 [00:00<?, ?B/s]"
            ],
            "application/vnd.jupyter.widget-view+json": {
              "version_major": 2,
              "version_minor": 0,
              "model_id": "14526c91e1fb4c3d8c8630fe56e2a8d7"
            }
          },
          "metadata": {}
        },
        {
          "output_type": "stream",
          "name": "stderr",
          "text": [
            "Device set to use cpu\n"
          ]
        }
      ],
      "source": [
        "from transformers import pipeline\n",
        "import torch\n",
        "\n",
        "device = \"cuda:0\" if torch.cuda.is_available() else \"cpu\"\n",
        "\n",
        "classifier = pipeline(\n",
        "    \"audio-classification\", model=\"MIT/ast-finetuned-speech-commands-v2\", device=device\n",
        ")"
      ]
    },
    {
      "cell_type": "code",
      "source": [
        "classifier.model.config.id2label"
      ],
      "metadata": {
        "colab": {
          "base_uri": "https://localhost:8080/"
        },
        "id": "AEAIapSR8HPG",
        "executionInfo": {
          "status": "ok",
          "timestamp": 1758201101253,
          "user_tz": -120,
          "elapsed": 48,
          "user": {
            "displayName": "Martin D.",
            "userId": "02541328456949819845"
          }
        },
        "outputId": "456a561c-83a4-4524-e52a-66ec12497f72"
      },
      "execution_count": 2,
      "outputs": [
        {
          "output_type": "execute_result",
          "data": {
            "text/plain": [
              "{0: 'backward',\n",
              " 1: 'follow',\n",
              " 2: 'five',\n",
              " 3: 'bed',\n",
              " 4: 'zero',\n",
              " 5: 'on',\n",
              " 6: 'learn',\n",
              " 7: 'two',\n",
              " 8: 'house',\n",
              " 9: 'tree',\n",
              " 10: 'dog',\n",
              " 11: 'stop',\n",
              " 12: 'seven',\n",
              " 13: 'eight',\n",
              " 14: 'down',\n",
              " 15: 'six',\n",
              " 16: 'forward',\n",
              " 17: 'cat',\n",
              " 18: 'right',\n",
              " 19: 'visual',\n",
              " 20: 'four',\n",
              " 21: 'wow',\n",
              " 22: 'no',\n",
              " 23: 'nine',\n",
              " 24: 'off',\n",
              " 25: 'three',\n",
              " 26: 'left',\n",
              " 27: 'marvin',\n",
              " 28: 'yes',\n",
              " 29: 'up',\n",
              " 30: 'sheila',\n",
              " 31: 'happy',\n",
              " 32: 'bird',\n",
              " 33: 'go',\n",
              " 34: 'one'}"
            ]
          },
          "metadata": {},
          "execution_count": 2
        }
      ]
    },
    {
      "cell_type": "code",
      "source": [
        "classifier.model.config.id2label[27]"
      ],
      "metadata": {
        "colab": {
          "base_uri": "https://localhost:8080/",
          "height": 35
        },
        "id": "Z8gryOoF8Mde",
        "executionInfo": {
          "status": "ok",
          "timestamp": 1758201113358,
          "user_tz": -120,
          "elapsed": 18,
          "user": {
            "displayName": "Martin D.",
            "userId": "02541328456949819845"
          }
        },
        "outputId": "795d16fa-800a-4d44-8bfa-c264e7efdf06"
      },
      "execution_count": 3,
      "outputs": [
        {
          "output_type": "execute_result",
          "data": {
            "text/plain": [
              "'marvin'"
            ],
            "application/vnd.google.colaboratory.intrinsic+json": {
              "type": "string"
            }
          },
          "metadata": {},
          "execution_count": 3
        }
      ]
    },
    {
      "cell_type": "code",
      "source": [
        "from transformers.pipelines.audio_utils import ffmpeg_microphone_live\n",
        "\n",
        "def launch_fn(\n",
        "    wake_word=\"marvin\",\n",
        "    prob_threshold=0.5,\n",
        "    chunk_length_s=2.0,\n",
        "    stream_chunk_s=0.25,\n",
        "    debug=False,\n",
        "):\n",
        "    if wake_word not in classifier.model.config.label2id.keys():\n",
        "        raise ValueError(\n",
        "            f\"Wake word {wake_word} not in set of valid class labels, pick a wake word in the set {classifier.model.config.label2id.keys()}.\"\n",
        "        )\n",
        "\n",
        "    sampling_rate = classifier.feature_extractor.sampling_rate\n",
        "\n",
        "    mic = ffmpeg_microphone_live(\n",
        "        sampling_rate=sampling_rate,\n",
        "        chunk_length_s=chunk_length_s,\n",
        "        stream_chunk_s=stream_chunk_s,\n",
        "    )\n",
        "\n",
        "    print(\"Listening for wake word...\")\n",
        "    for prediction in classifier(mic):\n",
        "        prediction = prediction[0]\n",
        "        if debug:\n",
        "            print(prediction)\n",
        "        if prediction[\"label\"] == wake_word:\n",
        "            if prediction[\"score\"] > prob_threshold:\n",
        "                return True"
      ],
      "metadata": {
        "id": "DGUIBApD8_cG",
        "executionInfo": {
          "status": "ok",
          "timestamp": 1758201265435,
          "user_tz": -120,
          "elapsed": 13,
          "user": {
            "displayName": "Martin D.",
            "userId": "02541328456949819845"
          }
        }
      },
      "execution_count": 4,
      "outputs": []
    },
    {
      "cell_type": "code",
      "source": [
        "launch_fn(debug=True)"
      ],
      "metadata": {
        "id": "smD5Ycci-V7u"
      },
      "execution_count": null,
      "outputs": []
    },
    {
      "cell_type": "markdown",
      "source": [
        "**2 - Speech transcription**"
      ],
      "metadata": {
        "id": "46Vc9q4L70be"
      }
    },
    {
      "cell_type": "code",
      "source": [
        "transcriber = pipeline(\n",
        "    \"automatic-speech-recognition\", model=\"openai/whisper-base.en\", device=device\n",
        ")"
      ],
      "metadata": {
        "colab": {
          "base_uri": "https://localhost:8080/",
          "height": 418,
          "referenced_widgets": [
            "23993f4e5799498684b5dfd1caeda6eb",
            "ab0f3ab238224b6abbcd594a357e4381",
            "8a6d6679386c423db86de9be023471fe",
            "0f64a398311448ff926e486761dabbb5",
            "d073b27fa36945aeaeacd60ffc00bb66",
            "ce60deb8920941389f1930f923b442fa",
            "911d3d8fecf14b99af970b74fe48cb5d",
            "6553e6b30a8e4fbbb481ab4458517500",
            "60eeea5012fb4fd09156428b41e935b9",
            "793d318ed3c04625b55c3428f5e52722",
            "43a5023285c74ee3a7f1d274728db474",
            "35bf537dc6a8490c859002e0ca9246e1",
            "ca70ec2ecb1944cc9e4fea39bdd73d3a",
            "f1cd8f71c38348768a2c296beecfa871",
            "849df343f95643228fa5a643427c7eb1",
            "6a6c1cf3a3a145d7af21d661c67b59b3",
            "2997051d1bcf49dea5654df3ccc15ffe",
            "f8eabe2faed245549d3f5db9e86fd601",
            "2be04c7423294587bbe4cbc9024f943d",
            "5776b26023954806aff5299068a42c02",
            "1a7ea7e1b43940d18a1875c50fc72888",
            "2468335a7dad4841b1d7a9917aed7822",
            "63e5e2c13e40437d84852ece5343723b",
            "a62c0284097a4e39a02bcef417f0cdf5",
            "a5fa2346311a4f8a84c3b8d277ed4b6a",
            "8bfb7a51391e40d0b912d5022f7b1d39",
            "3bf21f46e19a406ab6c5c82bd79fe2c6",
            "ee55ded3e53644af833bcbf329eb39bf",
            "0f6b618a757b4456b8fb3fa9b78321fd",
            "ba3b9afa446046e1a733791cef56dfb5",
            "138a17f696364222bae10b8e2d16b7ab",
            "6b6489e510134cfca26efeccd8643473",
            "55e9d8772fa44291af5d60e2bbf0992c",
            "a7c618f8e0f34aa086b404d89f9b1172",
            "075b1df388e24ef5b1c813e4214d58b2",
            "358de75842c745bf86595affed429591",
            "2c6153172f1b4d84b089cdddd4283f93",
            "97e92f9407d94d23b7c09f29e618ff84",
            "17ad3e2d5ea94922ae775a5ffd675a13",
            "e849b4c772874ca3859436d7ac38e447",
            "44c36e22231045c2bd0050664de2e93f",
            "84859f71ab1b43ddb8652446637914cd",
            "8647db9352e8438ab574f1a859a54582",
            "cb4338348c534883b3d86434ab25b931",
            "f51b7ab9ebc04ccda35df7b2d9a063c3",
            "ea716409d6124d96b738b3fa3e168b93",
            "a4bd088b4e904b068ea50c1f93dbe8ba",
            "dad5463faea04d6096e42eecd63e4a9f",
            "006be89ddd4940f09e4434b0a7d57d18",
            "14fcb3d4f4e74865ad49106c653875eb",
            "d8ac960081504b70a42546fd55f0b720",
            "ea3afa84486c490882076a961a4737d4",
            "abf1f0ed91c8497fb6bf544d0a72703a",
            "847e2faf730f43a39d66cc59918cb236",
            "701359e679f74718b90dfbb1bf19d6b9",
            "f51da4b319a4425e8e2727d7de161617",
            "46e7445c7d6a4c38b5e37d180a185dd9",
            "2ad981127838458489dbe40b62db6530",
            "e70657a006dc492090fcab263467167e",
            "cbc39432bcec4a5f9b639e35394e2e09",
            "c7007ca2018b40dcab9098f7287f1f85",
            "3412f670b9064c6090669e251ac47306",
            "56cb700791d64723b64afd682d3d2da6",
            "934b4aff4f024a3a8c9471beb8e5d7dd",
            "f6612dc8acfb4a6f8506262b15e1267e",
            "c2d8f764ad2047e9b35e2ac2ec161ebe",
            "d51cbabce7ff4ca1bdcf12213c1ebad1",
            "177a419d0cd643d793e285d16f703a26",
            "bdf80c1efd95485c9f8bc6a300ca08c7",
            "cccf9688046945de914fa2b6c7442aa0",
            "8316f669a39c4adeb515236e51acbb59",
            "f21c589819ed43828b5d34af380ee304",
            "e0693c9af4a445fd948b927d07b6294e",
            "0df296c228a945f4ba87d66aebcac140",
            "bedc46dc6d704ad58b92db09800d09bf",
            "4aa4b3fed9934e04a3371c098ef7080c",
            "488d7c50151d44f8ac156f5b525a60bd",
            "af08737200d34a928b571ec34cd3ec51",
            "16d361707f9c4f37a8cf9c03a3928cea",
            "40820fb125c84a17ac4b6485b7ff73e3",
            "978966c730054cfbb7d48664fb383a24",
            "3c41cd5a44824b8689ad9713d8112181",
            "481fb2e32d75434783b287994ad31f47",
            "c199131e62dd4df78015903a2642cf72",
            "6b44827347d2466da301e808865818ff",
            "6a6114eacfd14ee29e09ea8f7a01038f",
            "93c22e76a15640e98f937641f48b4ade",
            "649413cb0ffc428fa1fa8ad3149d35dd",
            "32e7ff73702348b59b5f60eb3a61bf8c",
            "5dd7e4a488fb486e840ad72cd5208733",
            "ee7fee9d9c14480bab84ef767e0ecd16",
            "84c7fb48128844cabd33edc3cb6f3307",
            "a5bb4347c2894142a3b3738f370bccd0",
            "0ab41acb1d794765b71bc7fa84b5329f",
            "7ddf28781c6e49359c97e7d0a124fbca",
            "7351ee067159419d9ade341d1f1a9972",
            "2386cd63e51b492a96ded623bac21fdf",
            "888fd30e52b84e6dbad55ac3cbc4d324",
            "bf38b811d3b44c63acbb5a67bc699ea3",
            "ac477f924a9043948df099135dfe3a92",
            "cf9d926d3e2941bd8a0c4b03ec69d0dd",
            "38649ebddb0a40b7afd12543c4bde4e8",
            "dd2463cc5fd24268919af8101243b78c",
            "d36211e5d70e4fe2b262ae14e5ee4764",
            "e7098922cb5f46308b6c9d6c7c60b627",
            "2d551a1784fa4f9aa6d9ddc86ed759df",
            "445ad3f5c4214cf191ac7456124beb91",
            "39116caedb124dffa894600636243b1c",
            "ceac947c3af54b5982bc2efd5ff329d3",
            "727f3c0741fc4930ad9c2778a4854d5f",
            "0134e84188bf4237a8262a84d6fdff4f",
            "fba4dd6e9a884505b8f08cc2e313d73f",
            "a4fa2d6a1c864b269add06a6e76b22c3",
            "6e0779fb0180489baf69b3a9eb0c6166",
            "3cb196133948417e8f8a53ae18e05ef6",
            "03997fef11494311a7fb7090788dd82f",
            "28951a1c83a9444b88e69a988da02169",
            "778bade39e60450d8175a83711ffc761",
            "44fc4d8674c64808b8bb3665b388cb1b",
            "dbc8e957a257498fbb488ce1b333b8ea",
            "138f8da8ded042bba85b7b5f2c921b34",
            "d755b6e10e18463490409228c8fb1977",
            "859084bd07ae430d8b787f867ea10e1c",
            "5bbf1acad6244b289f779c02b05ed910",
            "d232e2efb30a4a94ae31e856da0bdc32",
            "dc66b7ec2eea4554ac98e62a8fbbe8f4",
            "15e6ba2cda0f4dbaa6dd91495de65039",
            "02c03f78386447ac823711c09f40289b",
            "4648e4bd8faa4f90bf41de8b52bee8b7",
            "3a42c23056cc443ab75dac29106d1533",
            "1d2ee0fa6a2141baa45c505637013e5d",
            "a95a15b041d14667b50c3553e752a7d0"
          ]
        },
        "id": "KHqQuFcf7482",
        "executionInfo": {
          "status": "ok",
          "timestamp": 1758201966691,
          "user_tz": -120,
          "elapsed": 9098,
          "user": {
            "displayName": "Martin D.",
            "userId": "02541328456949819845"
          }
        },
        "outputId": "d720e2ee-8d9f-4bf3-dd66-963a3817f6ee"
      },
      "execution_count": 7,
      "outputs": [
        {
          "output_type": "display_data",
          "data": {
            "text/plain": [
              "config.json: 0.00B [00:00, ?B/s]"
            ],
            "application/vnd.jupyter.widget-view+json": {
              "version_major": 2,
              "version_minor": 0,
              "model_id": "23993f4e5799498684b5dfd1caeda6eb"
            }
          },
          "metadata": {}
        },
        {
          "output_type": "display_data",
          "data": {
            "text/plain": [
              "model.safetensors:   0%|          | 0.00/290M [00:00<?, ?B/s]"
            ],
            "application/vnd.jupyter.widget-view+json": {
              "version_major": 2,
              "version_minor": 0,
              "model_id": "35bf537dc6a8490c859002e0ca9246e1"
            }
          },
          "metadata": {}
        },
        {
          "output_type": "display_data",
          "data": {
            "text/plain": [
              "generation_config.json: 0.00B [00:00, ?B/s]"
            ],
            "application/vnd.jupyter.widget-view+json": {
              "version_major": 2,
              "version_minor": 0,
              "model_id": "63e5e2c13e40437d84852ece5343723b"
            }
          },
          "metadata": {}
        },
        {
          "output_type": "display_data",
          "data": {
            "text/plain": [
              "tokenizer_config.json:   0%|          | 0.00/805 [00:00<?, ?B/s]"
            ],
            "application/vnd.jupyter.widget-view+json": {
              "version_major": 2,
              "version_minor": 0,
              "model_id": "a7c618f8e0f34aa086b404d89f9b1172"
            }
          },
          "metadata": {}
        },
        {
          "output_type": "display_data",
          "data": {
            "text/plain": [
              "vocab.json: 0.00B [00:00, ?B/s]"
            ],
            "application/vnd.jupyter.widget-view+json": {
              "version_major": 2,
              "version_minor": 0,
              "model_id": "f51b7ab9ebc04ccda35df7b2d9a063c3"
            }
          },
          "metadata": {}
        },
        {
          "output_type": "display_data",
          "data": {
            "text/plain": [
              "tokenizer.json: 0.00B [00:00, ?B/s]"
            ],
            "application/vnd.jupyter.widget-view+json": {
              "version_major": 2,
              "version_minor": 0,
              "model_id": "f51da4b319a4425e8e2727d7de161617"
            }
          },
          "metadata": {}
        },
        {
          "output_type": "display_data",
          "data": {
            "text/plain": [
              "merges.txt: 0.00B [00:00, ?B/s]"
            ],
            "application/vnd.jupyter.widget-view+json": {
              "version_major": 2,
              "version_minor": 0,
              "model_id": "d51cbabce7ff4ca1bdcf12213c1ebad1"
            }
          },
          "metadata": {}
        },
        {
          "output_type": "display_data",
          "data": {
            "text/plain": [
              "normalizer.json: 0.00B [00:00, ?B/s]"
            ],
            "application/vnd.jupyter.widget-view+json": {
              "version_major": 2,
              "version_minor": 0,
              "model_id": "af08737200d34a928b571ec34cd3ec51"
            }
          },
          "metadata": {}
        },
        {
          "output_type": "display_data",
          "data": {
            "text/plain": [
              "added_tokens.json: 0.00B [00:00, ?B/s]"
            ],
            "application/vnd.jupyter.widget-view+json": {
              "version_major": 2,
              "version_minor": 0,
              "model_id": "32e7ff73702348b59b5f60eb3a61bf8c"
            }
          },
          "metadata": {}
        },
        {
          "output_type": "display_data",
          "data": {
            "text/plain": [
              "special_tokens_map.json: 0.00B [00:00, ?B/s]"
            ],
            "application/vnd.jupyter.widget-view+json": {
              "version_major": 2,
              "version_minor": 0,
              "model_id": "ac477f924a9043948df099135dfe3a92"
            }
          },
          "metadata": {}
        },
        {
          "output_type": "display_data",
          "data": {
            "text/plain": [
              "Fetching 1 files:   0%|          | 0/1 [00:00<?, ?it/s]"
            ],
            "application/vnd.jupyter.widget-view+json": {
              "version_major": 2,
              "version_minor": 0,
              "model_id": "0134e84188bf4237a8262a84d6fdff4f"
            }
          },
          "metadata": {}
        },
        {
          "output_type": "display_data",
          "data": {
            "text/plain": [
              "preprocessor_config.json: 0.00B [00:00, ?B/s]"
            ],
            "application/vnd.jupyter.widget-view+json": {
              "version_major": 2,
              "version_minor": 0,
              "model_id": "d755b6e10e18463490409228c8fb1977"
            }
          },
          "metadata": {}
        },
        {
          "output_type": "stream",
          "name": "stderr",
          "text": [
            "Device set to use cpu\n"
          ]
        }
      ]
    },
    {
      "cell_type": "code",
      "source": [
        "import sys\n",
        "\n",
        "def transcribe(chunk_length_s=5.0, stream_chunk_s=1.0):\n",
        "    sampling_rate = transcriber.feature_extractor.sampling_rate\n",
        "\n",
        "    mic = ffmpeg_microphone_live(\n",
        "        sampling_rate=sampling_rate,\n",
        "        chunk_length_s=chunk_length_s,\n",
        "        stream_chunk_s=stream_chunk_s,\n",
        "    )\n",
        "\n",
        "    print(\"Start speaking...\")\n",
        "    for item in transcriber(mic, generate_kwargs={\"max_new_tokens\": 128}):\n",
        "        sys.stdout.write(\"\\033[K\")\n",
        "        print(item[\"text\"], end=\"\\r\")\n",
        "        if not item[\"partial\"][0]:\n",
        "            break\n",
        "\n",
        "    return item[\"text\"]"
      ],
      "metadata": {
        "id": "aEdRr3ZQARHn",
        "executionInfo": {
          "status": "ok",
          "timestamp": 1758202037615,
          "user_tz": -120,
          "elapsed": 39,
          "user": {
            "displayName": "Martin D.",
            "userId": "02541328456949819845"
          }
        }
      },
      "execution_count": 8,
      "outputs": []
    },
    {
      "cell_type": "code",
      "source": [
        "transcribe()"
      ],
      "metadata": {
        "id": "51na1Bu6DDC_"
      },
      "execution_count": null,
      "outputs": []
    },
    {
      "cell_type": "markdown",
      "source": [
        "**3 - Language model query**"
      ],
      "metadata": {
        "id": "Tr6gG32i75be"
      }
    },
    {
      "cell_type": "code",
      "source": [
        "from huggingface_hub import HfFolder\n",
        "import requests\n",
        "\n",
        "\n",
        "def query(text, model_id=\"tiiuae/falcon-7b-instruct\"):\n",
        "    api_url = f\"https://api-inference.huggingface.co/models/{model_id}\"\n",
        "    headers = {\"Authorization\": f\"Bearer {HfFolder().get_token()}\"}\n",
        "    payload = {\"inputs\": text}\n",
        "\n",
        "    print(f\"Querying...: {text}\")\n",
        "    response = requests.post(api_url, headers=headers, json=payload)\n",
        "    return response.json()[0][\"generated_text\"][len(text) + 1 :]"
      ],
      "metadata": {
        "id": "ChLqX3817_FW",
        "executionInfo": {
          "status": "ok",
          "timestamp": 1758202843710,
          "user_tz": -120,
          "elapsed": 5,
          "user": {
            "displayName": "Martin D.",
            "userId": "02541328456949819845"
          }
        }
      },
      "execution_count": 10,
      "outputs": []
    },
    {
      "cell_type": "markdown",
      "source": [
        "**4 - Synthesize speech**"
      ],
      "metadata": {
        "id": "WxBKs_N_7_o2"
      }
    },
    {
      "cell_type": "code",
      "source": [
        "from transformers import SpeechT5Processor, SpeechT5ForTextToSpeech, SpeechT5HifiGan\n",
        "\n",
        "processor = SpeechT5Processor.from_pretrained(\"microsoft/speecht5_tts\")\n",
        "\n",
        "model = SpeechT5ForTextToSpeech.from_pretrained(\"microsoft/speecht5_tts\").to(device)\n",
        "vocoder = SpeechT5HifiGan.from_pretrained(\"microsoft/speecht5_hifigan\").to(device)"
      ],
      "metadata": {
        "id": "njTdlLcy8FJW"
      },
      "execution_count": null,
      "outputs": []
    },
    {
      "cell_type": "code",
      "source": [
        "from datasets import load_dataset\n",
        "\n",
        "embeddings_dataset = load_dataset(\"Matthijs/cmu-arctic-xvectors\", split=\"validation\")\n",
        "speaker_embeddings = torch.tensor(embeddings_dataset[7306][\"xvector\"]).unsqueeze(0)"
      ],
      "metadata": {
        "id": "dxGJOo2aFL0A"
      },
      "execution_count": null,
      "outputs": []
    },
    {
      "cell_type": "code",
      "source": [
        "def synthesise(text):\n",
        "    inputs = processor(text=text, return_tensors=\"pt\")\n",
        "    speech = model.generate_speech(\n",
        "        inputs[\"input_ids\"].to(device), speaker_embeddings.to(device), vocoder=vocoder\n",
        "    )\n",
        "    return speech.cpu()"
      ],
      "metadata": {
        "id": "yyN9VmSwFPDY"
      },
      "execution_count": null,
      "outputs": []
    },
    {
      "cell_type": "code",
      "source": [
        "from IPython.display import Audio\n",
        "\n",
        "audio = synthesise(\n",
        "    \"Hugging Face is a company that provides natural language processing and machine learning tools for developers.\"\n",
        ")\n",
        "\n",
        "Audio(audio, rate=16000)"
      ],
      "metadata": {
        "id": "FVlaDq1nFYHI"
      },
      "execution_count": null,
      "outputs": []
    },
    {
      "cell_type": "markdown",
      "source": [
        "**Marvin Assistant**"
      ],
      "metadata": {
        "id": "x_942h4DFoNI"
      }
    },
    {
      "cell_type": "code",
      "source": [
        "launch_fn()\n",
        "transcription = transcribe()\n",
        "response = query(transcription)\n",
        "audio = synthesise(response)\n",
        "\n",
        "Audio(audio, rate=16000, autoplay=True)"
      ],
      "metadata": {
        "id": "TL4Mp4ZXFqmY"
      },
      "execution_count": null,
      "outputs": []
    }
  ]
}