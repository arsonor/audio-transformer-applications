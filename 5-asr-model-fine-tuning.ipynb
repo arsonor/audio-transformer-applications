{
  "cells": [
    {
      "cell_type": "code",
      "execution_count": null,
      "metadata": {
        "colab": {
          "base_uri": "https://localhost:8080/"
        },
        "collapsed": true,
        "executionInfo": {
          "elapsed": 105479,
          "status": "ok",
          "timestamp": 1755604176831,
          "user": {
            "displayName": "Martin D.",
            "userId": "02541328456949819845"
          },
          "user_tz": -120
        },
        "id": "EjkqqtuWJwkE",
        "outputId": "cd6ce997-eb3e-4284-ded8-988854c6ae6b"
      },
      "outputs": [],
      "source": [
        "pip install torch==2.6.0+cu124 torchvision torchaudio --index-url https://download.pytorch.org/whl/cu124"
      ]
    },
    {
      "cell_type": "code",
      "execution_count": null,
      "metadata": {
        "colab": {
          "base_uri": "https://localhost:8080/"
        },
        "collapsed": true,
        "executionInfo": {
          "elapsed": 5524,
          "status": "ok",
          "timestamp": 1755604195484,
          "user": {
            "displayName": "Martin D.",
            "userId": "02541328456949819845"
          },
          "user_tz": -120
        },
        "id": "SnLrxmNBKM0H",
        "outputId": "a2b86488-bce2-4e02-95c3-e7db40f1ccda"
      },
      "outputs": [],
      "source": [
        "pip install datasets==2.16.0"
      ]
    },
    {
      "cell_type": "code",
      "execution_count": null,
      "metadata": {
        "colab": {
          "base_uri": "https://localhost:8080/"
        },
        "collapsed": true,
        "executionInfo": {
          "elapsed": 12090,
          "status": "ok",
          "timestamp": 1755604223312,
          "user": {
            "displayName": "Martin D.",
            "userId": "02541328456949819845"
          },
          "user_tz": -120
        },
        "id": "DSMN9UpDKku_",
        "outputId": "fa1f58c5-9f4f-4ba7-f476-9a4003c25d0f"
      },
      "outputs": [],
      "source": [
        "pip install transformers==4.52.0"
      ]
    },
    {
      "cell_type": "code",
      "execution_count": null,
      "metadata": {
        "colab": {
          "base_uri": "https://localhost:8080/"
        },
        "collapsed": true,
        "executionInfo": {
          "elapsed": 4034,
          "status": "ok",
          "timestamp": 1755604256683,
          "user": {
            "displayName": "Martin D.",
            "userId": "02541328456949819845"
          },
          "user_tz": -120
        },
        "id": "3wWdEBQqKsO2",
        "outputId": "96ecdeca-59eb-4b14-89f8-1d7941d59492"
      },
      "outputs": [],
      "source": [
        "pip install scikit-learn accelerate"
      ]
    },
    {
      "cell_type": "code",
      "execution_count": null,
      "metadata": {
        "colab": {
          "base_uri": "https://localhost:8080/"
        },
        "collapsed": true,
        "executionInfo": {
          "elapsed": 6152,
          "status": "ok",
          "timestamp": 1755604274183,
          "user": {
            "displayName": "Martin D.",
            "userId": "02541328456949819845"
          },
          "user_tz": -120
        },
        "id": "QuoBUT36Kxbv",
        "outputId": "7f46fdcb-23e8-4031-846d-4b95a26d19d3"
      },
      "outputs": [],
      "source": [
        "pip install --upgrade evaluate jiwer"
      ]
    },
    {
      "cell_type": "code",
      "execution_count": 6,
      "metadata": {
        "colab": {
          "base_uri": "https://localhost:8080/",
          "height": 17,
          "referenced_widgets": [
            "634467f4a62e494591339d43506dcffc",
            "2500caa240b045b28896b05e8e7f3950",
            "8796665e118145e686b8dfeb7155528b",
            "d74d0469feef496680df7a04d4a29124",
            "21bda359858a4461b201b716a703c874",
            "04fd018b72df4c4daa5c794c64b7fa9c",
            "c3f32715235945fab11f4f30fd978164",
            "517f6b5208024301b530e44d6f69a9a5",
            "39b18bb71a6042a595f2ee5e94913ffa",
            "c175686e4f724ac4b93314d2a245d28a",
            "f2973589f9c248f2bc39a854273e8e67",
            "d83f48ce8d544d8b90d8c45279a51667",
            "791aba3b5bfc4d2a939bf4f791aa15c1",
            "fdba37f38d584e67b1424512822d66fa",
            "0f9f7b52f2934541bf4c98fe30725429",
            "05e80a6628d84f8b8a87a4d93716e6d1",
            "b32ce0eb42e24799ae87b6745f2902ae",
            "346608d3c3ef454da345579b080c0648",
            "02310399d19a42c186858447b951437d",
            "c9dab030e29945daaa6fda9b59e49113"
          ]
        },
        "executionInfo": {
          "elapsed": 573,
          "status": "ok",
          "timestamp": 1755604300603,
          "user": {
            "displayName": "Martin D.",
            "userId": "02541328456949819845"
          },
          "user_tz": -120
        },
        "id": "v25kiJnyK1ve",
        "outputId": "78fa8642-4bd9-4857-93ec-64de05b053cf"
      },
      "outputs": [
        {
          "data": {
            "application/vnd.jupyter.widget-view+json": {
              "model_id": "634467f4a62e494591339d43506dcffc",
              "version_major": 2,
              "version_minor": 0
            },
            "text/plain": [
              "VBox(children=(HTML(value='<center> <img\\nsrc=https://huggingface.co/front/assets/huggingface_logo-noborder.sv…"
            ]
          },
          "metadata": {},
          "output_type": "display_data"
        }
      ],
      "source": [
        "from huggingface_hub import notebook_login\n",
        "\n",
        "notebook_login()"
      ]
    },
    {
      "cell_type": "code",
      "execution_count": 7,
      "metadata": {
        "executionInfo": {
          "elapsed": 27942,
          "status": "ok",
          "timestamp": 1755604616612,
          "user": {
            "displayName": "Martin D.",
            "userId": "02541328456949819845"
          },
          "user_tz": -120
        },
        "id": "Mjyb52RUK9zG"
      },
      "outputs": [],
      "source": [
        "import evaluate\n",
        "import torch\n",
        "from dataclasses import dataclass\n",
        "from typing import Any, Dict, List, Union\n",
        "from functools import partial\n",
        "\n",
        "from datasets import load_dataset, DatasetDict\n",
        "from datasets import Audio\n",
        "\n",
        "from transformers import WhisperProcessor\n",
        "from transformers import WhisperForConditionalGeneration\n",
        "from transformers.models.whisper.english_normalizer import BasicTextNormalizer\n",
        "\n",
        "from transformers import Seq2SeqTrainingArguments\n",
        "from transformers import Seq2SeqTrainer"
      ]
    },
    {
      "cell_type": "code",
      "execution_count": 10,
      "metadata": {
        "colab": {
          "base_uri": "https://localhost:8080/"
        },
        "executionInfo": {
          "elapsed": 1412,
          "status": "ok",
          "timestamp": 1755605472558,
          "user": {
            "displayName": "Martin D.",
            "userId": "02541328456949819845"
          },
          "user_tz": -120
        },
        "id": "rUPM5sWNN6oP",
        "outputId": "539e8394-8a9f-4391-d89d-3b117a1cded9"
      },
      "outputs": [
        {
          "name": "stdout",
          "output_type": "stream",
          "text": [
            "DatasetDict({\n",
            "    train: Dataset({\n",
            "        features: ['path', 'audio', 'transcription', 'english_transcription', 'intent_class', 'lang_id'],\n",
            "        num_rows: 450\n",
            "    })\n",
            "    test: Dataset({\n",
            "        features: ['path', 'audio', 'transcription', 'english_transcription', 'intent_class', 'lang_id'],\n",
            "        num_rows: 113\n",
            "    })\n",
            "})\n"
          ]
        }
      ],
      "source": [
        "minds_14 = DatasetDict()\n",
        "\n",
        "minds_14[\"train\"] = load_dataset(\n",
        "    \"PolyAI/minds14\", \"en-US\", split=\"train[:450]\"\n",
        ")\n",
        "minds_14[\"test\"] = load_dataset(\n",
        "    \"PolyAI/minds14\", \"en-US\", split=\"train[450:]\"\n",
        ")\n",
        "\n",
        "print(minds_14)"
      ]
    },
    {
      "cell_type": "code",
      "execution_count": 12,
      "metadata": {
        "executionInfo": {
          "elapsed": 11,
          "status": "ok",
          "timestamp": 1755605814297,
          "user": {
            "displayName": "Martin D.",
            "userId": "02541328456949819845"
          },
          "user_tz": -120
        },
        "id": "EUDR25KbPqyo"
      },
      "outputs": [],
      "source": [
        "minds_14 = minds_14.select_columns([\"audio\", \"transcription\"])"
      ]
    },
    {
      "cell_type": "code",
      "execution_count": 14,
      "metadata": {
        "colab": {
          "base_uri": "https://localhost:8080/",
          "height": 273,
          "referenced_widgets": [
            "8633ecb6b6e140e498f3946630ff90d3",
            "4867e87f77764f40a4aa68db8541ad38",
            "727ada0fe5484a528c4552d019259840",
            "8145d21fd38241b4af6e205c57f4c2b5",
            "837064709a8e4404b6719b0257d4075b",
            "535212956926496ab2ccaee4ec17e1a7",
            "e0c0c7f66e3a415d8256e52480438d34",
            "65483328dadc4c3980eebbbdade8072c",
            "e4d72c8a27d447e1b9a0633d6b19b356",
            "23c0ce0cd84c4bb6842febf417d7ec70",
            "35b73d95460046d19d2fca43ec5651e3",
            "06db5eb6ecd44a90807667aa73431332",
            "1232b67eb7284976b5eb652aa622c049",
            "180588cf957e42a7aceaa04372f18fde",
            "adc3a16528b04c7b9ffa02910677dd99",
            "dda3f56a35e2481c8d3d4f38909c6846",
            "27bf178a799945229626da1bf8fc9bbd",
            "41b23488ff574b9bb05b9495a06692c1",
            "d7c0684dcd1245e7bb9aa37efb477929",
            "8e8bc79751584d0faaae2f53a92a0a0e",
            "c88a413d11ed4505a07a91c6a1c6d44a",
            "4175ab00fe944cf9b8a7e8544e0cff01",
            "cb21400604914d159fd8a433ddbf54a6",
            "d47e51f2a32a4735b138952733e9be6e",
            "0eda3f13bf304f64971fb70e9d7f7bce",
            "6332621833f84d64bb69a7a73c34b07c",
            "780d0f71992e44d1bd573fbe26d7b636",
            "a780535249de4a2a94d7b640aeee2bfc",
            "add9664cf9804f4badeabbb64d6523c0",
            "b48730527fcd4187815f212b0938b33a",
            "408d587f2f424ed49a4f4c315b393c5f",
            "0bf8eece541e4c9baee90563aebd20f5",
            "ab282abb7be24c80a592c653e385af29",
            "3f1d5ebe6f0141e2b2c3e8012f5d6dd8",
            "10d97050c3b44c9bbed1377357f72c11",
            "806d1da1bcfa45ba8d464d3c69e752d1",
            "3491c7eb13ea4b43a7c8c184d502e0a7",
            "1d1047cc3b8b4bdc993020cb0dc162b3",
            "c99e351965dc47809e08e688f7da6a31",
            "432b647068ca4a59843c8a9e481e841e",
            "f43b80b6e4f54953b5a55465f371823c",
            "1032c4e9264948e59c2da1bead2d7cb7",
            "718061ac05f3497799f4e7799630d433",
            "9406cb45447640e6a7cf78b3b194b0ac",
            "c2462d2ba3e04e62b755df918bcb4287",
            "d3bee39d029c46c283f864822b296af1",
            "22175129b4b34263a91d077c28cbc410",
            "dc526d9f88874a9e9114afd6d51383b1",
            "91882a5bff3145169d609950b489952d",
            "2c80ce97c0f94f74a70ece5d6a8ffcb9",
            "a25de9f2fcf44201b9e6f039bf45df05",
            "71dbb12b2d6b4400831388c4c2ed1936",
            "9b53f739ef8548119a3425114b3b55c0",
            "263628f069d94ec39d25d40148823de2",
            "d76b5040dd9741378ffc8592269fea6c",
            "70106a7d0c0f4911bd43a8ad9fc1ea25",
            "dcd1b5f7213840ef91ad9f6d732ec8f4",
            "4a2b5553b40a43979f8c9de929c686c7",
            "262b835ea14c4a519f3b6fc5d443db22",
            "faecf920e42b4373a1130636b94bbd38",
            "bb901195538c4845929df162463e0476",
            "15fa9ddc678a4a0ca129d9f77a1b024a",
            "77fcdbc0d3e348e0a0bdcee5b135ab20",
            "e44c91303e43419b80beae8d340b618f",
            "bb296900d40646fca86cd2e1285908a6",
            "bb384fa1dac2492eb310edb6a303c82a",
            "c3494a2827c049a699aeb2a9b223cd1f",
            "c170ee2e89714b4987b93cd65ac5e891",
            "3d9672a793c04299a77c6089c48dc6b7",
            "98a98a9876eb4315b5fd899cb7db963b",
            "600043724b0143b08d1369a6ef5d8daa",
            "9b6f3d2facd3474eb41fe525cf5c69d2",
            "62618b30c2734e8981fcb57814654540",
            "90f2da10c61b4041ba351f0c391366d1",
            "fb6dca8fe0a344fe93b3f8b5223712f1",
            "6772f962041a41f8bac8fbaa7ac11004",
            "635878abba84474e88d7faaea75926c5",
            "913d2870f938498aac8b1acbdb48d25d",
            "38e4b70ccf424f01961f854b934888f1",
            "92bf78e19aa54ee3b98b6d0d029c0d54",
            "85832224bd4a483abf5d2957fedaf521",
            "e897253f3a324c7bac3538f5429d4dd5",
            "5c5fec49b87642fe8e8a51b92e529e17",
            "17336f10af6c4f718aae735001e69d17",
            "2797c44da1f84c99adc4bc32d2ba2a09",
            "22f48130332d4ea78f4b6e30b767964d",
            "33856e9de09344fe8b951cd0216cad4c",
            "0835cdf6d2544fbc8cd2cb5474db67e8"
          ]
        },
        "executionInfo": {
          "elapsed": 4021,
          "status": "ok",
          "timestamp": 1755606775823,
          "user": {
            "displayName": "Martin D.",
            "userId": "02541328456949819845"
          },
          "user_tz": -120
        },
        "id": "FfbdkU-EQvhQ",
        "outputId": "08cf6928-6be3-49dd-dd69-af865cf0153f"
      },
      "outputs": [
        {
          "data": {
            "application/vnd.jupyter.widget-view+json": {
              "model_id": "8633ecb6b6e140e498f3946630ff90d3",
              "version_major": 2,
              "version_minor": 0
            },
            "text/plain": [
              "preprocessor_config.json: 0.00B [00:00, ?B/s]"
            ]
          },
          "metadata": {},
          "output_type": "display_data"
        },
        {
          "data": {
            "application/vnd.jupyter.widget-view+json": {
              "model_id": "06db5eb6ecd44a90807667aa73431332",
              "version_major": 2,
              "version_minor": 0
            },
            "text/plain": [
              "tokenizer_config.json: 0.00B [00:00, ?B/s]"
            ]
          },
          "metadata": {},
          "output_type": "display_data"
        },
        {
          "data": {
            "application/vnd.jupyter.widget-view+json": {
              "model_id": "cb21400604914d159fd8a433ddbf54a6",
              "version_major": 2,
              "version_minor": 0
            },
            "text/plain": [
              "vocab.json: 0.00B [00:00, ?B/s]"
            ]
          },
          "metadata": {},
          "output_type": "display_data"
        },
        {
          "data": {
            "application/vnd.jupyter.widget-view+json": {
              "model_id": "3f1d5ebe6f0141e2b2c3e8012f5d6dd8",
              "version_major": 2,
              "version_minor": 0
            },
            "text/plain": [
              "tokenizer.json: 0.00B [00:00, ?B/s]"
            ]
          },
          "metadata": {},
          "output_type": "display_data"
        },
        {
          "data": {
            "application/vnd.jupyter.widget-view+json": {
              "model_id": "c2462d2ba3e04e62b755df918bcb4287",
              "version_major": 2,
              "version_minor": 0
            },
            "text/plain": [
              "merges.txt: 0.00B [00:00, ?B/s]"
            ]
          },
          "metadata": {},
          "output_type": "display_data"
        },
        {
          "data": {
            "application/vnd.jupyter.widget-view+json": {
              "model_id": "70106a7d0c0f4911bd43a8ad9fc1ea25",
              "version_major": 2,
              "version_minor": 0
            },
            "text/plain": [
              "normalizer.json: 0.00B [00:00, ?B/s]"
            ]
          },
          "metadata": {},
          "output_type": "display_data"
        },
        {
          "data": {
            "application/vnd.jupyter.widget-view+json": {
              "model_id": "c3494a2827c049a699aeb2a9b223cd1f",
              "version_major": 2,
              "version_minor": 0
            },
            "text/plain": [
              "added_tokens.json: 0.00B [00:00, ?B/s]"
            ]
          },
          "metadata": {},
          "output_type": "display_data"
        },
        {
          "data": {
            "application/vnd.jupyter.widget-view+json": {
              "model_id": "913d2870f938498aac8b1acbdb48d25d",
              "version_major": 2,
              "version_minor": 0
            },
            "text/plain": [
              "special_tokens_map.json: 0.00B [00:00, ?B/s]"
            ]
          },
          "metadata": {},
          "output_type": "display_data"
        }
      ],
      "source": [
        "processor = WhisperProcessor.from_pretrained(\n",
        "    \"openai/whisper-tiny\", language=\"en\", task=\"transcribe\"\n",
        ")"
      ]
    },
    {
      "cell_type": "code",
      "execution_count": 16,
      "metadata": {
        "colab": {
          "base_uri": "https://localhost:8080/"
        },
        "executionInfo": {
          "elapsed": 6,
          "status": "ok",
          "timestamp": 1755606822248,
          "user": {
            "displayName": "Martin D.",
            "userId": "02541328456949819845"
          },
          "user_tz": -120
        },
        "id": "mvixLOJ6UdRo",
        "outputId": "c8ab53a2-6d5d-4aa9-f381-63d629d0a3ad"
      },
      "outputs": [
        {
          "data": {
            "text/plain": [
              "{'audio': Audio(sampling_rate=8000, mono=True, decode=True, id=None),\n",
              " 'transcription': Value(dtype='string', id=None)}"
            ]
          },
          "execution_count": 16,
          "metadata": {},
          "output_type": "execute_result"
        }
      ],
      "source": [
        "minds_14[\"train\"].features"
      ]
    },
    {
      "cell_type": "code",
      "execution_count": 17,
      "metadata": {
        "executionInfo": {
          "elapsed": 6,
          "status": "ok",
          "timestamp": 1755606926699,
          "user": {
            "displayName": "Martin D.",
            "userId": "02541328456949819845"
          },
          "user_tz": -120
        },
        "id": "d78OJLSEUvyI"
      },
      "outputs": [],
      "source": [
        "sampling_rate = processor.feature_extractor.sampling_rate\n",
        "minds_14 = minds_14.cast_column(\"audio\", Audio(sampling_rate=sampling_rate))"
      ]
    },
    {
      "cell_type": "code",
      "execution_count": 19,
      "metadata": {
        "executionInfo": {
          "elapsed": 4,
          "status": "ok",
          "timestamp": 1755607059448,
          "user": {
            "displayName": "Martin D.",
            "userId": "02541328456949819845"
          },
          "user_tz": -120
        },
        "id": "Xz12W-ptVGXg"
      },
      "outputs": [],
      "source": [
        "def prepare_dataset(example):\n",
        "    audio = example[\"audio\"]\n",
        "\n",
        "    example = processor(\n",
        "        audio=audio[\"array\"],\n",
        "        sampling_rate=audio[\"sampling_rate\"],\n",
        "        text=example[\"transcription\"],\n",
        "    )\n",
        "\n",
        "    # compute input length of audio sample in seconds\n",
        "    example[\"input_length\"] = len(audio[\"array\"]) / audio[\"sampling_rate\"]\n",
        "\n",
        "    return example"
      ]
    },
    {
      "cell_type": "code",
      "execution_count": 20,
      "metadata": {
        "colab": {
          "base_uri": "https://localhost:8080/",
          "height": 81,
          "referenced_widgets": [
            "afc89e0f959a4176975b6281bd4845fe",
            "3455f1646fef4413b7ca4b51e2963a29",
            "9d69ccf575424bec8a98ac9e7717b58e",
            "bf911465e35e4ff2afd66a3583694f71",
            "754db199603f4a4d9b9c15bbb062f24f",
            "1c6336da3a4e4894a6ecb161e9bcf4e8",
            "adcb231a26d24dd1b8659bc96baa200b",
            "2b0ce39dc94d4dd7a4393c91f69d60f2",
            "c059b879e7234bebb2c0fa8a71aa95b3",
            "ccbafeaed9cb4e52aa86e3bae04d4f66",
            "f63e76f452f94abb99820d45bfe28b1a",
            "6100867f7d854b31a49705d51b90b18e",
            "04c72100d2a342da92936eb3bc5414fd",
            "7879eb0b68e34762aa06a7f5d4d330c4",
            "8ebc18ff3f7a4f0e85aa4b47aae4f6fa",
            "5e0c588bcebf4a268516d4600d9ae23f",
            "adf5db380d22417d8372c2b7b4e71b19",
            "1e3f6440da9d4f0baede7b17c58e5d1c",
            "e18fa858f11c4eabb8fa7fd353864f92",
            "f918a051212e474fa6c41c84893a9aca",
            "d217c9d1a6e146f4a7f30de29076cd9d",
            "770a67bac5da499fb98e600510c1e423"
          ]
        },
        "executionInfo": {
          "elapsed": 17399,
          "status": "ok",
          "timestamp": 1755607204881,
          "user": {
            "displayName": "Martin D.",
            "userId": "02541328456949819845"
          },
          "user_tz": -120
        },
        "id": "bx6tU2dJVdLJ",
        "outputId": "d2efa659-90e0-4b6f-8d97-fdef54aa283f"
      },
      "outputs": [
        {
          "data": {
            "application/vnd.jupyter.widget-view+json": {
              "model_id": "afc89e0f959a4176975b6281bd4845fe",
              "version_major": 2,
              "version_minor": 0
            },
            "text/plain": [
              "Map:   0%|          | 0/450 [00:00<?, ? examples/s]"
            ]
          },
          "metadata": {},
          "output_type": "display_data"
        },
        {
          "data": {
            "application/vnd.jupyter.widget-view+json": {
              "model_id": "6100867f7d854b31a49705d51b90b18e",
              "version_major": 2,
              "version_minor": 0
            },
            "text/plain": [
              "Map:   0%|          | 0/113 [00:00<?, ? examples/s]"
            ]
          },
          "metadata": {},
          "output_type": "display_data"
        }
      ],
      "source": [
        "minds_14 = minds_14.map(\n",
        "    prepare_dataset, remove_columns=minds_14.column_names[\"train\"], num_proc=1\n",
        ")"
      ]
    },
    {
      "cell_type": "code",
      "execution_count": 24,
      "metadata": {
        "executionInfo": {
          "elapsed": 43,
          "status": "ok",
          "timestamp": 1755607303553,
          "user": {
            "displayName": "Martin D.",
            "userId": "02541328456949819845"
          },
          "user_tz": -120
        },
        "id": "FMJisrXvWTGx"
      },
      "outputs": [],
      "source": [
        "max_input_length = 30.0\n",
        "def is_audio_in_length_range(length):\n",
        "    return length < max_input_length"
      ]
    },
    {
      "cell_type": "code",
      "execution_count": 25,
      "metadata": {
        "colab": {
          "base_uri": "https://localhost:8080/",
          "height": 49,
          "referenced_widgets": [
            "e3b5e25b068c450e860709295415b6b7",
            "4b23c4ab52bf43dcb2130607205b8155",
            "31510202a99549d2aa892c953c4542a9",
            "5a02d8fba3ef49c8b7b6403a0c1978b6",
            "b7aaaa1c2f47427a829a532187ad14f9",
            "1f17339f00b24597a81fef4a827ce997",
            "c3f1a2b6efbc459cb4db16fad9b6bcb5",
            "f7e61d2dea9a461dad4118502c8b30d5",
            "976252a8584d4fbe91cc0261ed124575",
            "a56d2296973d41b8ba325f2e1d24ddfd",
            "e51a89844e284425b2f91e66e370e9bb"
          ]
        },
        "executionInfo": {
          "elapsed": 58,
          "status": "ok",
          "timestamp": 1755607348376,
          "user": {
            "displayName": "Martin D.",
            "userId": "02541328456949819845"
          },
          "user_tz": -120
        },
        "id": "DnFSBox4WY1A",
        "outputId": "13984b1a-86dc-416b-ee13-a9d09f57ca7e"
      },
      "outputs": [
        {
          "data": {
            "application/vnd.jupyter.widget-view+json": {
              "model_id": "e3b5e25b068c450e860709295415b6b7",
              "version_major": 2,
              "version_minor": 0
            },
            "text/plain": [
              "Filter:   0%|          | 0/450 [00:00<?, ? examples/s]"
            ]
          },
          "metadata": {},
          "output_type": "display_data"
        }
      ],
      "source": [
        "minds_14[\"train\"] = minds_14[\"train\"].filter(\n",
        "    is_audio_in_length_range,\n",
        "    input_columns=[\"input_length\"],\n",
        ")"
      ]
    },
    {
      "cell_type": "code",
      "execution_count": 26,
      "metadata": {
        "colab": {
          "base_uri": "https://localhost:8080/"
        },
        "executionInfo": {
          "elapsed": 13,
          "status": "ok",
          "timestamp": 1755607368332,
          "user": {
            "displayName": "Martin D.",
            "userId": "02541328456949819845"
          },
          "user_tz": -120
        },
        "id": "9cP3PpDhWkNB",
        "outputId": "a2317341-cefc-43f3-f3b6-38c664440b22"
      },
      "outputs": [
        {
          "data": {
            "text/plain": [
              "Dataset({\n",
              "    features: ['input_features', 'labels', 'input_length'],\n",
              "    num_rows: 445\n",
              "})"
            ]
          },
          "execution_count": 26,
          "metadata": {},
          "output_type": "execute_result"
        }
      ],
      "source": [
        "minds_14[\"train\"]"
      ]
    },
    {
      "cell_type": "code",
      "execution_count": 27,
      "metadata": {
        "executionInfo": {
          "elapsed": 12,
          "status": "ok",
          "timestamp": 1755607443188,
          "user": {
            "displayName": "Martin D.",
            "userId": "02541328456949819845"
          },
          "user_tz": -120
        },
        "id": "4LrzbWgWWtMw"
      },
      "outputs": [],
      "source": [
        "@dataclass\n",
        "class DataCollatorSpeechSeq2SeqWithPadding:\n",
        "    processor: Any\n",
        "\n",
        "    def __call__(\n",
        "        self, features: List[Dict[str, Union[List[int], torch.Tensor]]]\n",
        "    ) -> Dict[str, torch.Tensor]:\n",
        "        # split inputs and labels since they have to be of different lengths and need different padding methods\n",
        "        # first treat the audio inputs by simply returning torch tensors\n",
        "        input_features = [\n",
        "            {\"input_features\": feature[\"input_features\"][0]} for feature in features\n",
        "        ]\n",
        "        batch = self.processor.feature_extractor.pad(input_features, return_tensors=\"pt\")\n",
        "\n",
        "        # get the tokenized label sequences\n",
        "        label_features = [{\"input_ids\": feature[\"labels\"]} for feature in features]\n",
        "        # pad the labels to max length\n",
        "        labels_batch = self.processor.tokenizer.pad(label_features, return_tensors=\"pt\")\n",
        "\n",
        "        # replace padding with -100 to ignore loss correctly\n",
        "        labels = labels_batch[\"input_ids\"].masked_fill(\n",
        "            labels_batch.attention_mask.ne(1), -100\n",
        "        )\n",
        "\n",
        "        # if bos token is appended in previous tokenization step,\n",
        "        # cut bos token here as it's append later anyways\n",
        "        if (labels[:, 0] == self.processor.tokenizer.bos_token_id).all().cpu().item():\n",
        "            labels = labels[:, 1:]\n",
        "\n",
        "        batch[\"labels\"] = labels\n",
        "\n",
        "        return batch"
      ]
    },
    {
      "cell_type": "code",
      "execution_count": 28,
      "metadata": {
        "executionInfo": {
          "elapsed": 46,
          "status": "ok",
          "timestamp": 1755607458586,
          "user": {
            "displayName": "Martin D.",
            "userId": "02541328456949819845"
          },
          "user_tz": -120
        },
        "id": "gt27AB4YW65Z"
      },
      "outputs": [],
      "source": [
        "data_collator = DataCollatorSpeechSeq2SeqWithPadding(processor=processor)"
      ]
    },
    {
      "cell_type": "code",
      "execution_count": 29,
      "metadata": {
        "colab": {
          "base_uri": "https://localhost:8080/",
          "height": 49,
          "referenced_widgets": [
            "c91b146c269a4a2fa07a6bc5ae549c0a",
            "1e9e6abc3ce44784808bc30e2af85250",
            "f2af0be99a894a9d8ddfe71089975484",
            "6be7606cfc9545bda890e140eb2ab293",
            "539fe5a4e5794b1da2513e38feed005a",
            "01d657d2ec7c4873a9b565fb802cd366",
            "9809a05115c745c19d1c6157f6bebad5",
            "6a933e9cdf2f4a529551221765722765",
            "8492b197ac50471baaef9971298af866",
            "eae37004bfc6407b9a115565f435087e",
            "7916dfd2bfbc48b7af4902d680a778a1"
          ]
        },
        "executionInfo": {
          "elapsed": 650,
          "status": "ok",
          "timestamp": 1755607475100,
          "user": {
            "displayName": "Martin D.",
            "userId": "02541328456949819845"
          },
          "user_tz": -120
        },
        "id": "K2dammv7W-q4",
        "outputId": "bb8e17b7-9ef4-41d4-c5de-084b56bccd27"
      },
      "outputs": [
        {
          "data": {
            "application/vnd.jupyter.widget-view+json": {
              "model_id": "c91b146c269a4a2fa07a6bc5ae549c0a",
              "version_major": 2,
              "version_minor": 0
            },
            "text/plain": [
              "Downloading builder script: 0.00B [00:00, ?B/s]"
            ]
          },
          "metadata": {},
          "output_type": "display_data"
        }
      ],
      "source": [
        "import evaluate\n",
        "metric = evaluate.load(\"wer\")"
      ]
    },
    {
      "cell_type": "code",
      "execution_count": 30,
      "metadata": {
        "executionInfo": {
          "elapsed": 12,
          "status": "ok",
          "timestamp": 1755607561216,
          "user": {
            "displayName": "Martin D.",
            "userId": "02541328456949819845"
          },
          "user_tz": -120
        },
        "id": "dut4cKk-XC1Y"
      },
      "outputs": [],
      "source": [
        "normalizer = BasicTextNormalizer()\n",
        "\n",
        "def compute_metrics(pred):\n",
        "    pred_ids = pred.predictions\n",
        "    label_ids = pred.label_ids\n",
        "\n",
        "    # replace -100 with the pad_token_id\n",
        "    label_ids[label_ids == -100] = processor.tokenizer.pad_token_id\n",
        "\n",
        "    # we do not want to group tokens when computing the metrics\n",
        "    pred_str = processor.batch_decode(pred_ids, skip_special_tokens=True)\n",
        "    label_str = processor.batch_decode(label_ids, skip_special_tokens=True)\n",
        "\n",
        "    # compute orthographic wer\n",
        "    wer_ortho = metric.compute(predictions=pred_str, references=label_str)\n",
        "\n",
        "    # compute normalised WER\n",
        "    pred_str_norm = [normalizer(pred) for pred in pred_str]\n",
        "    label_str_norm = [normalizer(label) for label in label_str]\n",
        "    # filtering step to only evaluate the samples that correspond to non-zero references:\n",
        "    pred_str_norm = [\n",
        "        pred_str_norm[i] for i in range(len(pred_str_norm)) if len(label_str_norm[i]) > 0\n",
        "    ]\n",
        "    label_str_norm = [\n",
        "        label_str_norm[i]\n",
        "        for i in range(len(label_str_norm))\n",
        "        if len(label_str_norm[i]) > 0\n",
        "    ]\n",
        "\n",
        "    wer = metric.compute(predictions=pred_str_norm, references=label_str_norm)\n",
        "\n",
        "    return {\"wer_ortho\": wer_ortho, \"wer\": wer}"
      ]
    },
    {
      "cell_type": "code",
      "execution_count": 31,
      "metadata": {
        "colab": {
          "base_uri": "https://localhost:8080/",
          "height": 113,
          "referenced_widgets": [
            "4bb6306edaf94d84ae7c16cd2dca267b",
            "e5861059d0734df5b96f46fad1b53b1e",
            "2e0362d668b446fe8ee95cc9aab39623",
            "5107bc245f284ffc8a47d1d53003eeae",
            "f8213bb5d4a04233a764749e1b44e3bf",
            "a09ea8985fc641aeaa819b8093ae60f0",
            "87c783f889f246b7ae7e599481968d83",
            "4ff20f47591848848a79fe5c2a70eed3",
            "c1ff2566b8d04e8a8ee4085fc64c4bdb",
            "85cb5df6fd864f4ba054b8e6bfefe37f",
            "e28448655ff04a46bca2c67c34f0b2fa",
            "6898c699b994487c97a2b08121309186",
            "351b94b63e054d2ba964f6f0518873ae",
            "089f494100ec438ea318c3c512cf2197",
            "70d757dd360247acb51486519a340171",
            "9f4857c166b04a7dacb4dda75952e566",
            "1fd58fb088064319bba5e97fc14f092e",
            "b0f77816f78242ce9aa5f88fdc97faf1",
            "bf2905ab7773445ca474c7fc1f131939",
            "45bbb974405442abb1a0ded0b40dd076",
            "839116651a954aedb1f1eb78ff72b619",
            "905f2afbc09143dc950e5773580101da",
            "62d9dfef427841509a4f5f97ce0d8dae",
            "fad0242c28634e1c8e0c2e6279ce6a10",
            "66ce74c101f24accbe80452530d825bc",
            "3848b70669fb4f19b408854e254d5932",
            "e5dc77fcdeea4a728e6c50fa8887774c",
            "955592d4cd6944619d2d9f4102df4df5",
            "2029ff8fff08452bb6b7e301575b552b",
            "3ac6c3bfa20240b1981240ce84b6bbe8",
            "6c6d41d91e054af2ac19444b38300bb5",
            "39652c7d35ab4876b6d4026c810bfb8e",
            "f99ee83686c143d091c1d9a15463df0b"
          ]
        },
        "executionInfo": {
          "elapsed": 6580,
          "status": "ok",
          "timestamp": 1755607613062,
          "user": {
            "displayName": "Martin D.",
            "userId": "02541328456949819845"
          },
          "user_tz": -120
        },
        "id": "NviSiYr3XX_Z",
        "outputId": "a5993b2e-0fe5-48f9-96f2-1edcf9fb5298"
      },
      "outputs": [
        {
          "data": {
            "application/vnd.jupyter.widget-view+json": {
              "model_id": "4bb6306edaf94d84ae7c16cd2dca267b",
              "version_major": 2,
              "version_minor": 0
            },
            "text/plain": [
              "config.json: 0.00B [00:00, ?B/s]"
            ]
          },
          "metadata": {},
          "output_type": "display_data"
        },
        {
          "data": {
            "application/vnd.jupyter.widget-view+json": {
              "model_id": "6898c699b994487c97a2b08121309186",
              "version_major": 2,
              "version_minor": 0
            },
            "text/plain": [
              "model.safetensors:   0%|          | 0.00/151M [00:00<?, ?B/s]"
            ]
          },
          "metadata": {},
          "output_type": "display_data"
        },
        {
          "data": {
            "application/vnd.jupyter.widget-view+json": {
              "model_id": "62d9dfef427841509a4f5f97ce0d8dae",
              "version_major": 2,
              "version_minor": 0
            },
            "text/plain": [
              "generation_config.json: 0.00B [00:00, ?B/s]"
            ]
          },
          "metadata": {},
          "output_type": "display_data"
        }
      ],
      "source": [
        "model = WhisperForConditionalGeneration.from_pretrained(\"openai/whisper-tiny\")"
      ]
    },
    {
      "cell_type": "code",
      "execution_count": 32,
      "metadata": {
        "executionInfo": {
          "elapsed": 11,
          "status": "ok",
          "timestamp": 1755607655087,
          "user": {
            "displayName": "Martin D.",
            "userId": "02541328456949819845"
          },
          "user_tz": -120
        },
        "id": "D3prTDk3Xnr6"
      },
      "outputs": [],
      "source": [
        "# disable cache during training since it's incompatible with gradient checkpointing\n",
        "model.config.use_cache = False\n",
        "\n",
        "# set language and task for generation and re-enable cache\n",
        "model.generate = partial(\n",
        "    model.generate, language=\"english\", task=\"transcribe\", use_cache=True\n",
        ")"
      ]
    },
    {
      "cell_type": "code",
      "execution_count": 33,
      "metadata": {
        "executionInfo": {
          "elapsed": 14,
          "status": "ok",
          "timestamp": 1755607728935,
          "user": {
            "displayName": "Martin D.",
            "userId": "02541328456949819845"
          },
          "user_tz": -120
        },
        "id": "dISrILfnXvSh"
      },
      "outputs": [],
      "source": [
        "training_args = Seq2SeqTrainingArguments(\n",
        "    output_dir=\"./whisper-tiny-en\",  # name on the HF Hub\n",
        "    per_device_train_batch_size=16,\n",
        "    gradient_accumulation_steps=1,  # increase by 2x for every 2x decrease in batch size\n",
        "    learning_rate=1e-5,\n",
        "    lr_scheduler_type=\"constant_with_warmup\",\n",
        "    warmup_steps=50,\n",
        "    max_steps=500,  # increase to 4000 if you have your own GPU or a Colab paid plan\n",
        "    gradient_checkpointing=True,\n",
        "    fp16=True,\n",
        "    fp16_full_eval=True,\n",
        "    eval_strategy=\"steps\",\n",
        "    per_device_eval_batch_size=16,\n",
        "    predict_with_generate=True,\n",
        "    generation_max_length=225,\n",
        "    save_steps=500,\n",
        "    eval_steps=500,\n",
        "    logging_steps=25,\n",
        "    report_to=[\"tensorboard\"],\n",
        "    load_best_model_at_end=True,\n",
        "    metric_for_best_model=\"wer\",\n",
        "    greater_is_better=False,\n",
        "    push_to_hub=True,\n",
        ")"
      ]
    },
    {
      "cell_type": "code",
      "execution_count": 34,
      "metadata": {
        "executionInfo": {
          "elapsed": 513,
          "status": "ok",
          "timestamp": 1755607764839,
          "user": {
            "displayName": "Martin D.",
            "userId": "02541328456949819845"
          },
          "user_tz": -120
        },
        "id": "49fyGAPbYAnx"
      },
      "outputs": [],
      "source": [
        "trainer = Seq2SeqTrainer(\n",
        "    args=training_args,\n",
        "    model=model,\n",
        "    train_dataset=minds_14[\"train\"],\n",
        "    eval_dataset=minds_14[\"test\"],\n",
        "    data_collator=data_collator,\n",
        "    compute_metrics=compute_metrics,\n",
        "    processing_class=processor,\n",
        ")"
      ]
    },
    {
      "cell_type": "code",
      "execution_count": 35,
      "metadata": {
        "colab": {
          "base_uri": "https://localhost:8080/",
          "height": 248
        },
        "executionInfo": {
          "elapsed": 1236658,
          "status": "ok",
          "timestamp": 1755609015709,
          "user": {
            "displayName": "Martin D.",
            "userId": "02541328456949819845"
          },
          "user_tz": -120
        },
        "id": "PHKu_tB0YJgR",
        "outputId": "ae2da292-31a4-4093-cc04-090e21b8c5e1"
      },
      "outputs": [
        {
          "data": {
            "text/html": [
              "\n",
              "    <div>\n",
              "      \n",
              "      <progress value='500' max='500' style='width:300px; height:20px; vertical-align: middle;'></progress>\n",
              "      [500/500 20:20, Epoch 17/18]\n",
              "    </div>\n",
              "    <table border=\"1\" class=\"dataframe\">\n",
              "  <thead>\n",
              " <tr style=\"text-align: left;\">\n",
              "      <th>Step</th>\n",
              "      <th>Training Loss</th>\n",
              "      <th>Validation Loss</th>\n",
              "      <th>Wer Ortho</th>\n",
              "      <th>Wer</th>\n",
              "    </tr>\n",
              "  </thead>\n",
              "  <tbody>\n",
              "    <tr>\n",
              "      <td>500</td>\n",
              "      <td>0.000600</td>\n",
              "      <td>0.664862</td>\n",
              "      <td>0.324491</td>\n",
              "      <td>0.324675</td>\n",
              "    </tr>\n",
              "  </tbody>\n",
              "</table><p>"
            ],
            "text/plain": [
              "<IPython.core.display.HTML object>"
            ]
          },
          "metadata": {},
          "output_type": "display_data"
        },
        {
          "name": "stderr",
          "output_type": "stream",
          "text": [
            "You have passed task=transcribe, but also have set `forced_decoder_ids` to [[1, None], [2, 50359]] which creates a conflict. `forced_decoder_ids` will be ignored in favor of task=transcribe.\n",
            "The attention mask is not set and cannot be inferred from input because pad token is same as eos token. As a consequence, you may observe unexpected behavior. Please pass your input's `attention_mask` to obtain reliable results.\n",
            "/usr/local/lib/python3.11/dist-packages/transformers/modeling_utils.py:3464: UserWarning: Moving the following attributes in the config to the generation config: {'max_length': 448, 'suppress_tokens': [1, 2, 7, 8, 9, 10, 14, 25, 26, 27, 28, 29, 31, 58, 59, 60, 61, 62, 63, 90, 91, 92, 93, 359, 503, 522, 542, 873, 893, 902, 918, 922, 931, 1350, 1853, 1982, 2460, 2627, 3246, 3253, 3268, 3536, 3846, 3961, 4183, 4667, 6585, 6647, 7273, 9061, 9383, 10428, 10929, 11938, 12033, 12331, 12562, 13793, 14157, 14635, 15265, 15618, 16553, 16604, 18362, 18956, 20075, 21675, 22520, 26130, 26161, 26435, 28279, 29464, 31650, 32302, 32470, 36865, 42863, 47425, 49870, 50254, 50258, 50358, 50359, 50360, 50361, 50362], 'begin_suppress_tokens': [220, 50257]}. You are seeing this warning because you've set generation parameters in the model config, as opposed to in the generation config.\n",
            "  warnings.warn(\n",
            "There were missing keys in the checkpoint model loaded: ['proj_out.weight'].\n"
          ]
        },
        {
          "data": {
            "text/plain": [
              "TrainOutput(global_step=500, training_loss=0.2800298692956567, metrics={'train_runtime': 1228.3005, 'train_samples_per_second': 6.513, 'train_steps_per_second': 0.407, 'total_flos': 1.9569551781888e+17, 'train_loss': 0.2800298692956567, 'epoch': 17.857142857142858})"
            ]
          },
          "execution_count": 35,
          "metadata": {},
          "output_type": "execute_result"
        }
      ],
      "source": [
        "trainer.train()"
      ]
    },
    {
      "cell_type": "code",
      "execution_count": 36,
      "metadata": {
        "executionInfo": {
          "elapsed": 40,
          "status": "ok",
          "timestamp": 1755609060807,
          "user": {
            "displayName": "Martin D.",
            "userId": "02541328456949819845"
          },
          "user_tz": -120
        },
        "id": "pDTFutcgYR5x"
      },
      "outputs": [],
      "source": [
        "kwargs = {\n",
        "    \"dataset_tags\": \"PolyAI/minds14\",\n",
        "    \"finetuned_from\": \"openai/whisper-tiny\",\n",
        "    \"tasks\": \"automatic-speech-recognition\",\n",
        "}"
      ]
    },
    {
      "cell_type": "code",
      "execution_count": 37,
      "metadata": {
        "colab": {
          "base_uri": "https://localhost:8080/",
          "height": 246,
          "referenced_widgets": [
            "a41a400b771241739344d7d83cc6df73",
            "3c3c747a17ad4cf0a0836f87414f12db",
            "56549ef2adf948aca98908e9eabeda60",
            "cbbdcf958c9640a4acdbe649c658404d",
            "2248a1703cc5487da3b86277ae31c836",
            "e0936b047444421991d2c28a9df1e2e8",
            "74eaf64d38084c16b1f70421a5637234",
            "d5758b428f764410a8c8af661bd6c487",
            "8026b93a196a40f984b877cd1aa8945a",
            "c8018178f8a945118af786cbeab8476a",
            "b05a5581e3f3457d8cc16929ac74c382",
            "98a856606a0c4d01af1f95360f29e003",
            "09f88fd9856b41099b87cd01a0d63f24",
            "270c5e6029754a838a4d7e66f5180a77",
            "8bd37dc237104538839b5a2ffe64b53c",
            "8e4b6d48cb6b42c7a255f6208df548ba",
            "7c68f5ba03bb4d92b41a765d9af0dbc1",
            "fa2d43c4a10941d2bab64d7d99ce617f",
            "75235b2a673f47aa8b70f5a71770d34d",
            "9a0997c64b2342be9e96d4bd84d56cae",
            "7804f00744fe4b2da1ac860efb6f0474",
            "ec2f8cc9bb3840dca407805ee4c42393",
            "7b5670b48a354de1aff247350e162aeb",
            "fa71bcaeace648fdb07abc3189564e45",
            "b503d1d0a51a401cb5ba0203e3df8df9",
            "f6d8208ecf024364b13c55af868ed06e",
            "7fabb125b957409eaa4afdf5527022be",
            "90cb0783a10d4647a8c4d2b789de9002",
            "5e713a967d884050a01e9251fcc0753a",
            "4a3c39fa25d546d6be7f6cc11b7bf078",
            "31de55c97c314053be7527c651fa5cb6",
            "fccb74c524ac4e38b3afd154e4ec0301",
            "fe6d028b7f134e6889441b2e9211319b",
            "ae220332d2d04581a46b5f9b60c592b9",
            "386b3eb1e07c49a392961a6a81742c35",
            "250d271247d24820b4c2c4f8bbc4c73c",
            "70d3b592598049d994a7cf09715e67c1",
            "72ece335cccf40e5a1b53536ff13a2db",
            "019b85923d364742af834270ab78b65e",
            "7a1ca692d93347cead9fc489538694dd",
            "2ff1737955fd4bd39e1dc7e92cbc9495",
            "3bf90a99d2c74171b4c48d872b62d572",
            "8e98db376c8542c0873b8bcdcdf8523c",
            "c060eecdbb414761afd662f308078fd8",
            "82318ac1d47c41ad9efda0222ccf6958",
            "d114ea777a7c4764bc6d07c79d9e922b",
            "6b01bc3834654bd586e363bf7a54717c",
            "05eec26cf9bf4ab08ef059e83ebc4317",
            "a91828759eed435282de05e7bb5451a5",
            "0cb7ab4176c14259a284967165d457fb",
            "c8119ece6f744ea0ba48453e74c54234",
            "0869740cbd4d4581b9c11056eb688153",
            "0dbd398bc4cf4b7cb36773e7182b15fe",
            "19bdef9e55444941be1f4eb083370a24",
            "9d9382ff9d3b41628ec55af7e3d537aa"
          ]
        },
        "executionInfo": {
          "elapsed": 8045,
          "status": "ok",
          "timestamp": 1755609072086,
          "user": {
            "displayName": "Martin D.",
            "userId": "02541328456949819845"
          },
          "user_tz": -120
        },
        "id": "4fWeQS4eY1EZ",
        "outputId": "276c1bd2-c779-4f5e-e3c0-75e8cc9e0d31"
      },
      "outputs": [
        {
          "data": {
            "application/vnd.jupyter.widget-view+json": {
              "model_id": "a41a400b771241739344d7d83cc6df73",
              "version_major": 2,
              "version_minor": 0
            },
            "text/plain": [
              "Processing Files (0 / 0)                : |          |  0.00B /  0.00B            "
            ]
          },
          "metadata": {},
          "output_type": "display_data"
        },
        {
          "data": {
            "application/vnd.jupyter.widget-view+json": {
              "model_id": "98a856606a0c4d01af1f95360f29e003",
              "version_major": 2,
              "version_minor": 0
            },
            "text/plain": [
              "New Data Upload                         : |          |  0.00B /  0.00B            "
            ]
          },
          "metadata": {},
          "output_type": "display_data"
        },
        {
          "data": {
            "application/vnd.jupyter.widget-view+json": {
              "model_id": "7b5670b48a354de1aff247350e162aeb",
              "version_major": 2,
              "version_minor": 0
            },
            "text/plain": [
              "  ...t/whisper-tiny-en/training_args.bin: 100%|##########| 5.43kB / 5.43kB            "
            ]
          },
          "metadata": {},
          "output_type": "display_data"
        },
        {
          "data": {
            "application/vnd.jupyter.widget-view+json": {
              "model_id": "ae220332d2d04581a46b5f9b60c592b9",
              "version_major": 2,
              "version_minor": 0
            },
            "text/plain": [
              "  ...vents.1755607780.f508dd46cacf.290.0: 100%|##########| 11.6kB / 11.6kB            "
            ]
          },
          "metadata": {},
          "output_type": "display_data"
        },
        {
          "data": {
            "application/vnd.jupyter.widget-view+json": {
              "model_id": "82318ac1d47c41ad9efda0222ccf6958",
              "version_major": 2,
              "version_minor": 0
            },
            "text/plain": [
              "  ...t/whisper-tiny-en/model.safetensors:  28%|##7       | 41.9MB /  151MB            "
            ]
          },
          "metadata": {},
          "output_type": "display_data"
        },
        {
          "data": {
            "application/vnd.google.colaboratory.intrinsic+json": {
              "type": "string"
            },
            "text/plain": [
              "CommitInfo(commit_url='https://huggingface.co/arsonor/whisper-tiny-en/commit/1928743a3239b980dde1925f0504d1f0a35471e4', commit_message='End of training', commit_description='', oid='1928743a3239b980dde1925f0504d1f0a35471e4', pr_url=None, repo_url=RepoUrl('https://huggingface.co/arsonor/whisper-tiny-en', endpoint='https://huggingface.co', repo_type='model', repo_id='arsonor/whisper-tiny-en'), pr_revision=None, pr_num=None)"
            ]
          },
          "execution_count": 37,
          "metadata": {},
          "output_type": "execute_result"
        }
      ],
      "source": [
        "trainer.push_to_hub(**kwargs)"
      ]
    }
  ],
  "metadata": {
    "accelerator": "GPU",
    "colab": {
      "authorship_tag": "ABX9TyN6yxD4k5CtICa59JSFXai4",
      "gpuType": "T4",
      "provenance": []
    },
    "kernelspec": {
      "display_name": "Python 3",
      "name": "python3"
    },
    "language_info": {
      "name": "python"
    }
  },
  "nbformat": 4,
  "nbformat_minor": 0
}