{
  "cells": [
    {
      "cell_type": "markdown",
      "metadata": {
        "id": "5roIxqJPiCCk"
      },
      "source": [
        "# **GTZAN Music Genre Classification using Audio Spectrogram Transformer (AST)**\n",
        "Target: >87% accuracy on the GTZAN dataset"
      ]
    },
    {
      "cell_type": "code",
      "execution_count": null,
      "metadata": {
        "colab": {
          "base_uri": "https://localhost:8080/"
        },
        "collapsed": true,
        "executionInfo": {
          "elapsed": 114031,
          "status": "ok",
          "timestamp": 1755023296822,
          "user": {
            "displayName": "Walt Dangerfield",
            "userId": "14391938691902978960"
          },
          "user_tz": -120
        },
        "id": "SAm72rLGhI1G",
        "outputId": "357ca256-722f-4484-f216-2c851eb2ccfd"
      },
      "outputs": [],
      "source": [
        "pip install torch==2.6.0+cu124 torchvision torchaudio --index-url https://download.pytorch.org/whl/cu124"
      ]
    },
    {
      "cell_type": "code",
      "execution_count": null,
      "metadata": {
        "colab": {
          "base_uri": "https://localhost:8080/"
        },
        "collapsed": true,
        "executionInfo": {
          "elapsed": 6021,
          "status": "ok",
          "timestamp": 1755023309403,
          "user": {
            "displayName": "Walt Dangerfield",
            "userId": "14391938691902978960"
          },
          "user_tz": -120
        },
        "id": "dyjIjum6iOyW",
        "outputId": "ef0494a9-36bc-4661-e7db-49102034d3d9"
      },
      "outputs": [],
      "source": [
        "pip install datasets==2.16.0"
      ]
    },
    {
      "cell_type": "code",
      "execution_count": null,
      "metadata": {
        "colab": {
          "base_uri": "https://localhost:8080/"
        },
        "collapsed": true,
        "executionInfo": {
          "elapsed": 4181,
          "status": "ok",
          "timestamp": 1755023352656,
          "user": {
            "displayName": "Walt Dangerfield",
            "userId": "14391938691902978960"
          },
          "user_tz": -120
        },
        "id": "sxYvPMoQipIQ",
        "outputId": "525cdf39-b43a-4f51-b4af-63a8520f3d7c"
      },
      "outputs": [],
      "source": [
        "pip install transformers scikit-learn accelerate"
      ]
    },
    {
      "cell_type": "code",
      "execution_count": 4,
      "metadata": {
        "executionInfo": {
          "elapsed": 38281,
          "status": "ok",
          "timestamp": 1755023419338,
          "user": {
            "displayName": "Walt Dangerfield",
            "userId": "14391938691902978960"
          },
          "user_tz": -120
        },
        "id": "LVhYIYWKi08D"
      },
      "outputs": [],
      "source": [
        "import torch\n",
        "import torch.nn as nn\n",
        "import numpy as np\n",
        "from datasets import load_dataset, Audio\n",
        "from transformers import (\n",
        "    ASTFeatureExtractor,\n",
        "    ASTForAudioClassification,\n",
        "    TrainingArguments,\n",
        "    Trainer,\n",
        "    EarlyStoppingCallback\n",
        ")\n",
        "from sklearn.metrics import accuracy_score, classification_report, confusion_matrix\n",
        "import warnings\n",
        "warnings.filterwarnings('ignore')"
      ]
    },
    {
      "cell_type": "code",
      "execution_count": 5,
      "metadata": {
        "colab": {
          "base_uri": "https://localhost:8080/"
        },
        "executionInfo": {
          "elapsed": 14,
          "status": "ok",
          "timestamp": 1755023423039,
          "user": {
            "displayName": "Walt Dangerfield",
            "userId": "14391938691902978960"
          },
          "user_tz": -120
        },
        "id": "sv1i891Ji6C2",
        "outputId": "28ce1482-cddb-47e7-bbde-856554190fd5"
      },
      "outputs": [
        {
          "name": "stdout",
          "output_type": "stream",
          "text": [
            "Using device: cuda\n"
          ]
        }
      ],
      "source": [
        "# Set device\n",
        "device = torch.device(\"cuda\" if torch.cuda.is_available() else \"cpu\")\n",
        "print(f\"Using device: {device}\")"
      ]
    },
    {
      "cell_type": "code",
      "execution_count": 6,
      "metadata": {
        "colab": {
          "base_uri": "https://localhost:8080/",
          "height": 162,
          "referenced_widgets": [
            "4c90254eee2a4ad5809c4b5dc9953829",
            "d3a635add10c4df2b91111de840173fc",
            "65a0ee4997aa45c8ae5dac7ec16db164",
            "3671748e9c9849879ca9c2ffdb64c79b",
            "6067a0829b8c4e53a0a37c36aeea8831",
            "7672381198f948c89eb35df5c6b5f7f6",
            "63ca450e79494af48b3d3c71430bb7fa",
            "bbacd25be6964354a9d5819d7538a705",
            "4cc1645d6c214908bda2ed8ad2cd29d1",
            "fdde5326aa89495799ddf0b0b07236eb",
            "f4c78c2fa5b846f6a3aa0382ef2f3dcb",
            "d3a36355bb3d4e13b6ae9a6a2f31eeeb",
            "26530d3504fd4e6ba03f0f3f60fb5779",
            "4e3b72ee6f3d4213a9595e8386847314",
            "b17554928eba43068d71bcfbc7d82d43",
            "d4d5197437774309baac1dad7bb4202d",
            "7552610b4dbd42c280145df101e65b3e",
            "0950aedf903a4bfd9bfe084dba41648c",
            "eb803ede5d0a4e4aa63b6a4bf64ef585",
            "7be86754487b41dea9bbe5b8c043cecb",
            "f853f3d3373e4b81b8f2f7168db02b6a",
            "94bde1126167403893501bd32f5ce934",
            "4c3d59ad631440cb823bd77b7f114f66",
            "091a7854de2745d0856070ad1bb8b1b4",
            "e1b0dc6c0eac4fd8bbfdd1df3b3e13a3",
            "3be3946964f54dc5a960d93dd0401d95",
            "7ab04f3c239c4cd494491726844ba98c",
            "1f35890fa53d4513aa2b84472fdbef83",
            "98bf81e253594bbbb798341a9b82bb3e",
            "7e98b506ece94e23b8f8a2968d41ae5b",
            "09f8952decdd4516af25b510d5867b4f",
            "0189d32ad8bc4ae0bd91795cc5766449",
            "4eb24111c7ae480e8f0f59eb3c81a430",
            "16fe741ac8fb4b4d945d9d71ac1bd0e0",
            "8cbb0a2ea6844624a9864d01a2580baa",
            "799805d116af4741a79a012ca736388a",
            "9ad25c1691984dc3bcc1d9f63b26eead",
            "4aa24faa45ec468ab14be7cd069010d4",
            "1a4662c68ce1458f9b8dd7564a1430a6",
            "dc9a72e0a7444307bde7403789804a4b",
            "e0589f9b95b547a09ae66b34a4e763d3",
            "b05148a0eb254d6cb5d40f2a505a9143",
            "124b575cfabf452bb6a58cebc87e7252",
            "bb8ac339e5554b8284262062eebebef3"
          ]
        },
        "executionInfo": {
          "elapsed": 35004,
          "status": "ok",
          "timestamp": 1755023474734,
          "user": {
            "displayName": "Walt Dangerfield",
            "userId": "14391938691902978960"
          },
          "user_tz": -120
        },
        "id": "s_y6bSC_jD-O",
        "outputId": "31bf01d0-d005-41d1-c026-d479230b88eb"
      },
      "outputs": [
        {
          "name": "stdout",
          "output_type": "stream",
          "text": [
            "Loading GTZAN dataset...\n"
          ]
        },
        {
          "data": {
            "application/vnd.jupyter.widget-view+json": {
              "model_id": "4c90254eee2a4ad5809c4b5dc9953829",
              "version_major": 2,
              "version_minor": 0
            },
            "text/plain": [
              "Downloading builder script: 0.00B [00:00, ?B/s]"
            ]
          },
          "metadata": {},
          "output_type": "display_data"
        },
        {
          "data": {
            "application/vnd.jupyter.widget-view+json": {
              "model_id": "d3a36355bb3d4e13b6ae9a6a2f31eeeb",
              "version_major": 2,
              "version_minor": 0
            },
            "text/plain": [
              "Downloading readme: 0.00B [00:00, ?B/s]"
            ]
          },
          "metadata": {},
          "output_type": "display_data"
        },
        {
          "data": {
            "application/vnd.jupyter.widget-view+json": {
              "model_id": "4c3d59ad631440cb823bd77b7f114f66",
              "version_major": 2,
              "version_minor": 0
            },
            "text/plain": [
              "Downloading data:   0%|          | 0.00/1.23G [00:00<?, ?B/s]"
            ]
          },
          "metadata": {},
          "output_type": "display_data"
        },
        {
          "data": {
            "application/vnd.jupyter.widget-view+json": {
              "model_id": "16fe741ac8fb4b4d945d9d71ac1bd0e0",
              "version_major": 2,
              "version_minor": 0
            },
            "text/plain": [
              "Generating train split: 0 examples [00:00, ? examples/s]"
            ]
          },
          "metadata": {},
          "output_type": "display_data"
        }
      ],
      "source": [
        "# Load the GTZAN dataset\n",
        "print(\"Loading GTZAN dataset...\")\n",
        "dataset = load_dataset(\"marsyas/gtzan\", \"all\")"
      ]
    },
    {
      "cell_type": "code",
      "execution_count": 7,
      "metadata": {
        "colab": {
          "base_uri": "https://localhost:8080/"
        },
        "executionInfo": {
          "elapsed": 14,
          "status": "ok",
          "timestamp": 1755023477540,
          "user": {
            "displayName": "Walt Dangerfield",
            "userId": "14391938691902978960"
          },
          "user_tz": -120
        },
        "id": "V3IXzX-zjI4A",
        "outputId": "6bee56e0-61a6-46bb-93ad-51c85d8f6367"
      },
      "outputs": [
        {
          "name": "stdout",
          "output_type": "stream",
          "text": [
            "Number of genres: 10\n",
            "Genres: ['blues', 'classical', 'country', 'disco', 'hiphop', 'jazz', 'metal', 'pop', 'reggae', 'rock']\n"
          ]
        }
      ],
      "source": [
        "# Get label information\n",
        "labels = dataset[\"train\"].features[\"genre\"].names\n",
        "label2id = {label: i for i, label in enumerate(labels)}\n",
        "id2label = {i: label for i, label in enumerate(labels)}\n",
        "num_labels = len(labels)\n",
        "\n",
        "print(f\"Number of genres: {num_labels}\")\n",
        "print(f\"Genres: {labels}\")"
      ]
    },
    {
      "cell_type": "code",
      "execution_count": 8,
      "metadata": {
        "colab": {
          "base_uri": "https://localhost:8080/",
          "height": 237,
          "referenced_widgets": [
            "f7ea8f806a53444eaf80fd4fcd6ca1eb",
            "1ad7a48f55734f36b661657fc768ed14",
            "adc93af0b9d7434cbbdb8a44a9610823",
            "f81e39823a3c48c893b4e38232a902ec",
            "80f6d03f8e4747c39fa1e0a1c891496d",
            "f62f463dbc454a1680d4a9c901ee3990",
            "168e29c3bbf9477fa8496624a755d482",
            "1ef14d008ead40ae80fc9c649b686688",
            "89ab02130bd14fd391c3273476f180b8",
            "a962e66ce7b74b4c89ef8953d9b0bcc6",
            "9338b43df7634c0cb8f6e33251424e91",
            "39d871f90bbb4534a08eda7740580134",
            "4da1dfcc51494b35a0e4d459dec0ad78",
            "3349d869fe9a43469e69f6ed217568b8",
            "0be6c8ae9a4f46489f38eb97dc041619",
            "94aeae39d7af425a87af8d66607cc39a",
            "084be4cb6776468c9cb938608834b833",
            "d2de2d5958034b8ebb2bf31ba09680b0",
            "bd5b53bf7a2c4c07bf1280ec9585d46e",
            "4526822525ed4cf4a464f88ea94b6e8a",
            "9932c82deae8417fa9769378abfb029d",
            "29866712a58d4f7c9f66cef7f5d1bffb",
            "6efe7f9bde9d4fb4b9c49d7674ea3276",
            "dbbbfa300be94a9bb281c34d470053b7",
            "010297a989f947b29fd39853e0118942",
            "852ece48684545ef8b09591d317a829b",
            "2df8b75886454ae69fafa2748cc9ba7b",
            "bc8af5d7cae3410eb1b4e35b7e1ccb7b",
            "1a93ba7263a245afbf4a8230d3acb2b7",
            "63e85e6614294c8abbf5e52b28cffc0e",
            "641e9918b800404db2e1830697a069b9",
            "c25437f5b6f34c40a4d128960ec5d217",
            "d4f85fb78ab540afb71bdea46065cf35"
          ]
        },
        "executionInfo": {
          "elapsed": 6170,
          "status": "ok",
          "timestamp": 1755023506482,
          "user": {
            "displayName": "Walt Dangerfield",
            "userId": "14391938691902978960"
          },
          "user_tz": -120
        },
        "id": "6WdsVc3ojRRp",
        "outputId": "1b1781fd-9df8-4711-eaf4-752b7bac756b"
      },
      "outputs": [
        {
          "name": "stdout",
          "output_type": "stream",
          "text": [
            "\n",
            "Loading model: MIT/ast-finetuned-audioset-10-10-0.4593\n"
          ]
        },
        {
          "data": {
            "application/vnd.jupyter.widget-view+json": {
              "model_id": "f7ea8f806a53444eaf80fd4fcd6ca1eb",
              "version_major": 2,
              "version_minor": 0
            },
            "text/plain": [
              "preprocessor_config.json:   0%|          | 0.00/297 [00:00<?, ?B/s]"
            ]
          },
          "metadata": {},
          "output_type": "display_data"
        },
        {
          "data": {
            "application/vnd.jupyter.widget-view+json": {
              "model_id": "39d871f90bbb4534a08eda7740580134",
              "version_major": 2,
              "version_minor": 0
            },
            "text/plain": [
              "config.json: 0.00B [00:00, ?B/s]"
            ]
          },
          "metadata": {},
          "output_type": "display_data"
        },
        {
          "data": {
            "application/vnd.jupyter.widget-view+json": {
              "model_id": "6efe7f9bde9d4fb4b9c49d7674ea3276",
              "version_major": 2,
              "version_minor": 0
            },
            "text/plain": [
              "model.safetensors:   0%|          | 0.00/346M [00:00<?, ?B/s]"
            ]
          },
          "metadata": {},
          "output_type": "display_data"
        },
        {
          "name": "stderr",
          "output_type": "stream",
          "text": [
            "Some weights of ASTForAudioClassification were not initialized from the model checkpoint at MIT/ast-finetuned-audioset-10-10-0.4593 and are newly initialized because the shapes did not match:\n",
            "- classifier.dense.bias: found shape torch.Size([527]) in the checkpoint and torch.Size([10]) in the model instantiated\n",
            "- classifier.dense.weight: found shape torch.Size([527, 768]) in the checkpoint and torch.Size([10, 768]) in the model instantiated\n",
            "You should probably TRAIN this model on a down-stream task to be able to use it for predictions and inference.\n"
          ]
        }
      ],
      "source": [
        "# Initialize the AST model and feature extractor\n",
        "# Using AST-base model fine-tuned on AudioSet\n",
        "model_name = \"MIT/ast-finetuned-audioset-10-10-0.4593\"\n",
        "print(f\"\\nLoading model: {model_name}\")\n",
        "\n",
        "feature_extractor = ASTFeatureExtractor.from_pretrained(model_name)\n",
        "model = ASTForAudioClassification.from_pretrained(\n",
        "    model_name,\n",
        "    num_labels=num_labels,\n",
        "    label2id=label2id,\n",
        "    id2label=id2label,\n",
        "    ignore_mismatched_sizes=True  # Important for changing num_labels\n",
        ")"
      ]
    },
    {
      "cell_type": "code",
      "execution_count": 9,
      "metadata": {
        "executionInfo": {
          "elapsed": 1887,
          "status": "ok",
          "timestamp": 1755023522704,
          "user": {
            "displayName": "Walt Dangerfield",
            "userId": "14391938691902978960"
          },
          "user_tz": -120
        },
        "id": "W7SPpg8pjXX8"
      },
      "outputs": [],
      "source": [
        "# Move model to device\n",
        "model = model.to(device)"
      ]
    },
    {
      "cell_type": "code",
      "execution_count": 10,
      "metadata": {
        "executionInfo": {
          "elapsed": 11,
          "status": "ok",
          "timestamp": 1755023545986,
          "user": {
            "displayName": "Walt Dangerfield",
            "userId": "14391938691902978960"
          },
          "user_tz": -120
        },
        "id": "X6P_6aB5jcS7"
      },
      "outputs": [],
      "source": [
        "# Preprocessing function with data augmentation\n",
        "def preprocess_function(examples):\n",
        "    \"\"\"\n",
        "    Preprocess audio files for AST model\n",
        "    AST expects 10-second audio clips at 16kHz\n",
        "    \"\"\"\n",
        "    # Load audio at 16kHz\n",
        "    audio_arrays = [x[\"array\"] for x in examples[\"audio\"]]\n",
        "\n",
        "    # Process with feature extractor\n",
        "    inputs = feature_extractor(\n",
        "        audio_arrays,\n",
        "        sampling_rate=16000,\n",
        "        padding=\"max_length\",\n",
        "        max_length=160000,  # 10 seconds at 16kHz\n",
        "        truncation=True,\n",
        "        return_tensors=\"pt\"\n",
        "    )\n",
        "\n",
        "    # Add labels\n",
        "    inputs[\"labels\"] = examples[\"genre\"]\n",
        "\n",
        "    return inputs"
      ]
    },
    {
      "cell_type": "code",
      "execution_count": 11,
      "metadata": {
        "colab": {
          "base_uri": "https://localhost:8080/",
          "height": 84,
          "referenced_widgets": [
            "dadf849a08fc49579b7d0d717ce999cc",
            "3e598260958c49ebbefbf43867aa60b6",
            "31771e96274b4de4870006f05df070b8",
            "3f06917bdae847eea8d970b619294065",
            "423d72a9f88149dca51a5534a19237d0",
            "8e1199c5ef0a4fa7a530e8cd99c0fd64",
            "d613db56eb684d729b1fa3233757eb76",
            "875a3a65941c4f60a6e23fff0a24c24a",
            "2d46e8444c3742878bd8dd9f0d8b1c78",
            "887a44257b9d4ae5a9b6070755077372",
            "2bc897db1ce749dcb8aebc267bed20f9"
          ]
        },
        "executionInfo": {
          "elapsed": 70062,
          "status": "ok",
          "timestamp": 1755023639096,
          "user": {
            "displayName": "Walt Dangerfield",
            "userId": "14391938691902978960"
          },
          "user_tz": -120
        },
        "id": "X301-JOGjh8z",
        "outputId": "2717f0a7-6bba-4d45-d44d-43432c9a78bb"
      },
      "outputs": [
        {
          "name": "stdout",
          "output_type": "stream",
          "text": [
            "\n",
            "Preparing datasets...\n"
          ]
        },
        {
          "data": {
            "application/vnd.jupyter.widget-view+json": {
              "model_id": "dadf849a08fc49579b7d0d717ce999cc",
              "version_major": 2,
              "version_minor": 0
            },
            "text/plain": [
              "Map:   0%|          | 0/999 [00:00<?, ? examples/s]"
            ]
          },
          "metadata": {},
          "output_type": "display_data"
        }
      ],
      "source": [
        "# Prepare datasets\n",
        "print(\"\\nPreparing datasets...\")\n",
        "# Cast audio column to ensure 16kHz sampling rate\n",
        "dataset = dataset.cast_column(\"audio\", Audio(sampling_rate=16000))\n",
        "\n",
        "# Apply preprocessing\n",
        "encoded_dataset = dataset.map(\n",
        "    preprocess_function,\n",
        "    remove_columns=dataset[\"train\"].column_names,\n",
        "    batched=True,\n",
        "    batch_size=8,\n",
        "    num_proc=1\n",
        ")"
      ]
    },
    {
      "cell_type": "code",
      "execution_count": 12,
      "metadata": {
        "colab": {
          "base_uri": "https://localhost:8080/"
        },
        "executionInfo": {
          "elapsed": 39,
          "status": "ok",
          "timestamp": 1755023642303,
          "user": {
            "displayName": "Walt Dangerfield",
            "userId": "14391938691902978960"
          },
          "user_tz": -120
        },
        "id": "3qIC9J-JjoMc",
        "outputId": "c2a05d73-cd8a-4ff0-b2a0-2e711d67c336"
      },
      "outputs": [
        {
          "name": "stdout",
          "output_type": "stream",
          "text": [
            "Training samples: 799\n",
            "Validation samples: 100\n",
            "Test samples: 100\n"
          ]
        }
      ],
      "source": [
        "# Split the train set for validation and testing\n",
        "# Split the 'train' dataset into 80% train, 10% validation, and 10% test\n",
        "train_validation_test_split = encoded_dataset[\"train\"].train_test_split(test_size=0.2, seed=42)\n",
        "train_dataset = train_validation_test_split[\"train\"]\n",
        "\n",
        "# Split the remaining 20% into half validation and half test (10% validation, 10% test of original train)\n",
        "validation_test_split = train_validation_test_split[\"test\"].train_test_split(test_size=0.5, seed=42)\n",
        "eval_dataset = validation_test_split[\"train\"]\n",
        "test_dataset = validation_test_split[\"test\"]\n",
        "\n",
        "\n",
        "print(f\"Training samples: {len(train_dataset)}\")\n",
        "print(f\"Validation samples: {len(eval_dataset)}\")\n",
        "print(f\"Test samples: {len(test_dataset)}\")"
      ]
    },
    {
      "cell_type": "code",
      "execution_count": 13,
      "metadata": {
        "executionInfo": {
          "elapsed": 8,
          "status": "ok",
          "timestamp": 1755023662324,
          "user": {
            "displayName": "Walt Dangerfield",
            "userId": "14391938691902978960"
          },
          "user_tz": -120
        },
        "id": "lYBiycqLj5rO"
      },
      "outputs": [],
      "source": [
        "# Custom data collator for handling audio data\n",
        "class AudioDataCollator:\n",
        "    def __init__(self, feature_extractor):\n",
        "        self.feature_extractor = feature_extractor\n",
        "\n",
        "    def __call__(self, features):\n",
        "        # Extract input values and labels\n",
        "        input_values = [{\"input_values\": feature[\"input_values\"]} for feature in features]\n",
        "        labels = [feature[\"labels\"] for feature in features]\n",
        "\n",
        "        # Pad inputs\n",
        "        batch = self.feature_extractor.pad(\n",
        "            input_values,\n",
        "            padding=True,\n",
        "            return_tensors=\"pt\"\n",
        "        )\n",
        "\n",
        "        # Add labels\n",
        "        batch[\"labels\"] = torch.tensor(labels, dtype=torch.long)\n",
        "\n",
        "        return batch\n",
        "\n",
        "data_collator = AudioDataCollator(feature_extractor)"
      ]
    },
    {
      "cell_type": "code",
      "execution_count": 14,
      "metadata": {
        "executionInfo": {
          "elapsed": 18,
          "status": "ok",
          "timestamp": 1755023679487,
          "user": {
            "displayName": "Walt Dangerfield",
            "userId": "14391938691902978960"
          },
          "user_tz": -120
        },
        "id": "lxPK-9btj-eW"
      },
      "outputs": [],
      "source": [
        "# Evaluation metrics\n",
        "def compute_metrics(eval_pred):\n",
        "    predictions = np.argmax(eval_pred.predictions, axis=1)\n",
        "    references = eval_pred.label_ids\n",
        "\n",
        "    accuracy = accuracy_score(references, predictions)\n",
        "\n",
        "    return {\n",
        "        \"accuracy\": accuracy,\n",
        "    }"
      ]
    },
    {
      "cell_type": "code",
      "execution_count": 15,
      "metadata": {
        "colab": {
          "base_uri": "https://localhost:8080/",
          "height": 17,
          "referenced_widgets": [
            "89cf14e03e85422b8a450455d63857f1",
            "32e6dee2db1e4cec9d51a923f26d8556",
            "3aded14a443f449cba539c52ef5109b8",
            "f3e1b38f34364a30a3b25b7bd2fe54f4",
            "b243cd3b21694571b4ada553ec7357b2",
            "b8fd31d95231479b8152703c9bd6f728",
            "4cdf40694fdb4b5f80f99c446fe0b9f3",
            "f9a501e6f93a4933b29b8eeb0a0722be",
            "4304ad0bb6c54e3cb40fcbadea963367",
            "ed824f7aaa524098aa9c580961b30fe7",
            "c4c2303e0eb34e43994b2c13d4f03b2d",
            "80e9f5cb91f6449eb0fb4d0de52a8eda",
            "d9a20df4c1aa4edf89912a9e1a2b2ccb",
            "72020fb0a8d84664a6805fa4767d4575",
            "7f3fe9a67fad42cea1242ab3d940e9fd",
            "a38a648d58604a9baec7168f2d9b5453",
            "5a3ea91de6bb4a8192fef43f80132f59",
            "66e27af8359e4caaaf15ee0c4ca7a89e",
            "a9c45786401f442a93097b120308f39f",
            "3dd8f6a6626d4aa284634254f05481c0"
          ]
        },
        "executionInfo": {
          "elapsed": 66,
          "status": "ok",
          "timestamp": 1755023699533,
          "user": {
            "displayName": "Walt Dangerfield",
            "userId": "14391938691902978960"
          },
          "user_tz": -120
        },
        "id": "jaE3xq6okCmo",
        "outputId": "0525240a-3d7d-429a-a516-279232527e0d"
      },
      "outputs": [
        {
          "data": {
            "application/vnd.jupyter.widget-view+json": {
              "model_id": "89cf14e03e85422b8a450455d63857f1",
              "version_major": 2,
              "version_minor": 0
            },
            "text/plain": [
              "VBox(children=(HTML(value='<center> <img\\nsrc=https://huggingface.co/front/assets/huggingface_logo-noborder.sv…"
            ]
          },
          "metadata": {},
          "output_type": "display_data"
        }
      ],
      "source": [
        "from huggingface_hub import notebook_login\n",
        "\n",
        "notebook_login()"
      ]
    },
    {
      "cell_type": "code",
      "execution_count": 16,
      "metadata": {
        "colab": {
          "base_uri": "https://localhost:8080/",
          "height": 36
        },
        "executionInfo": {
          "elapsed": 19,
          "status": "ok",
          "timestamp": 1755023739947,
          "user": {
            "displayName": "Walt Dangerfield",
            "userId": "14391938691902978960"
          },
          "user_tz": -120
        },
        "id": "l7J6gkG6kNiJ",
        "outputId": "e338ce5d-2a99-4e05-cc5c-e1310d2fc890"
      },
      "outputs": [
        {
          "data": {
            "application/vnd.google.colaboratory.intrinsic+json": {
              "type": "string"
            },
            "text/plain": [
              "'ast-finetuned-audioset-10-10-0.4593'"
            ]
          },
          "execution_count": 16,
          "metadata": {},
          "output_type": "execute_result"
        }
      ],
      "source": [
        "model_name = model_name.split(\"/\")[-1]\n",
        "model_name"
      ]
    },
    {
      "cell_type": "code",
      "execution_count": 17,
      "metadata": {
        "executionInfo": {
          "elapsed": 32,
          "status": "ok",
          "timestamp": 1755023763000,
          "user": {
            "displayName": "Walt Dangerfield",
            "userId": "14391938691902978960"
          },
          "user_tz": -120
        },
        "id": "yxuTeZzIkRaK"
      },
      "outputs": [],
      "source": [
        "# Training arguments with optimized hyperparameters\n",
        "training_args = TrainingArguments(\n",
        "    f\"{model_name}-finetuned-gtzan\",\n",
        "    eval_strategy=\"steps\",\n",
        "    eval_steps=50,\n",
        "    save_strategy=\"steps\",\n",
        "    save_steps=50,\n",
        "    learning_rate=5e-5,  # Lower learning rate for fine-tuning\n",
        "    per_device_train_batch_size=8,  # Adjust based on GPU memory\n",
        "    per_device_eval_batch_size=8,\n",
        "    num_train_epochs=30,  # More epochs with early stopping\n",
        "    warmup_ratio=0.1,\n",
        "    weight_decay=0.01,\n",
        "    logging_steps=10,\n",
        "    load_best_model_at_end=True,\n",
        "    metric_for_best_model=\"accuracy\",\n",
        "    greater_is_better=True,\n",
        "    push_to_hub=True,\n",
        "    report_to=\"none\",\n",
        "    save_total_limit=3,\n",
        "    fp16=torch.cuda.is_available(),  # Mixed precision training\n",
        "    gradient_checkpointing=True,  # Memory optimization\n",
        "    gradient_accumulation_steps=2,  # Effective batch size = 16\n",
        "    lr_scheduler_type=\"cosine\",  # Cosine learning rate schedule\n",
        "    seed=42,\n",
        ")"
      ]
    },
    {
      "cell_type": "code",
      "execution_count": 18,
      "metadata": {
        "executionInfo": {
          "elapsed": 123,
          "status": "ok",
          "timestamp": 1755023777375,
          "user": {
            "displayName": "Walt Dangerfield",
            "userId": "14391938691902978960"
          },
          "user_tz": -120
        },
        "id": "bItbbhPEkW_y"
      },
      "outputs": [],
      "source": [
        "# Initialize trainer with early stopping\n",
        "trainer = Trainer(\n",
        "    model=model,\n",
        "    args=training_args,\n",
        "    data_collator=data_collator,\n",
        "    train_dataset=train_dataset,\n",
        "    eval_dataset=eval_dataset,\n",
        "    tokenizer=feature_extractor,\n",
        "    compute_metrics=compute_metrics,\n",
        "    callbacks=[EarlyStoppingCallback(early_stopping_patience=5)]\n",
        ")"
      ]
    },
    {
      "cell_type": "code",
      "execution_count": 19,
      "metadata": {
        "colab": {
          "base_uri": "https://localhost:8080/",
          "height": 803
        },
        "executionInfo": {
          "elapsed": 3100060,
          "status": "ok",
          "timestamp": 1755026896401,
          "user": {
            "displayName": "Walt Dangerfield",
            "userId": "14391938691902978960"
          },
          "user_tz": -120
        },
        "id": "ZvASpV59kaX6",
        "outputId": "121b291c-9ffc-422e-b578-c2fdbcc5221e"
      },
      "outputs": [
        {
          "name": "stdout",
          "output_type": "stream",
          "text": [
            "\n",
            "==================================================\n",
            "Starting training...\n",
            "==================================================\n"
          ]
        },
        {
          "data": {
            "text/html": [
              "\n",
              "    <div>\n",
              "      \n",
              "      <progress value='1050' max='1500' style='width:300px; height:20px; vertical-align: middle;'></progress>\n",
              "      [1050/1500 51:22 < 22:03, 0.34 it/s, Epoch 21/30]\n",
              "    </div>\n",
              "    <table border=\"1\" class=\"dataframe\">\n",
              "  <thead>\n",
              " <tr style=\"text-align: left;\">\n",
              "      <th>Step</th>\n",
              "      <th>Training Loss</th>\n",
              "      <th>Validation Loss</th>\n",
              "      <th>Accuracy</th>\n",
              "    </tr>\n",
              "  </thead>\n",
              "  <tbody>\n",
              "    <tr>\n",
              "      <td>50</td>\n",
              "      <td>0.886800</td>\n",
              "      <td>0.876064</td>\n",
              "      <td>0.720000</td>\n",
              "    </tr>\n",
              "    <tr>\n",
              "      <td>100</td>\n",
              "      <td>0.477100</td>\n",
              "      <td>0.763162</td>\n",
              "      <td>0.760000</td>\n",
              "    </tr>\n",
              "    <tr>\n",
              "      <td>150</td>\n",
              "      <td>0.341500</td>\n",
              "      <td>1.035609</td>\n",
              "      <td>0.720000</td>\n",
              "    </tr>\n",
              "    <tr>\n",
              "      <td>200</td>\n",
              "      <td>0.250800</td>\n",
              "      <td>0.543248</td>\n",
              "      <td>0.820000</td>\n",
              "    </tr>\n",
              "    <tr>\n",
              "      <td>250</td>\n",
              "      <td>0.169900</td>\n",
              "      <td>0.663200</td>\n",
              "      <td>0.810000</td>\n",
              "    </tr>\n",
              "    <tr>\n",
              "      <td>300</td>\n",
              "      <td>0.024000</td>\n",
              "      <td>0.874465</td>\n",
              "      <td>0.820000</td>\n",
              "    </tr>\n",
              "    <tr>\n",
              "      <td>350</td>\n",
              "      <td>0.035300</td>\n",
              "      <td>0.864297</td>\n",
              "      <td>0.790000</td>\n",
              "    </tr>\n",
              "    <tr>\n",
              "      <td>400</td>\n",
              "      <td>0.034100</td>\n",
              "      <td>0.561386</td>\n",
              "      <td>0.860000</td>\n",
              "    </tr>\n",
              "    <tr>\n",
              "      <td>450</td>\n",
              "      <td>0.041100</td>\n",
              "      <td>0.623041</td>\n",
              "      <td>0.860000</td>\n",
              "    </tr>\n",
              "    <tr>\n",
              "      <td>500</td>\n",
              "      <td>0.034500</td>\n",
              "      <td>0.936090</td>\n",
              "      <td>0.760000</td>\n",
              "    </tr>\n",
              "    <tr>\n",
              "      <td>550</td>\n",
              "      <td>0.030400</td>\n",
              "      <td>0.632943</td>\n",
              "      <td>0.870000</td>\n",
              "    </tr>\n",
              "    <tr>\n",
              "      <td>600</td>\n",
              "      <td>0.050400</td>\n",
              "      <td>1.062331</td>\n",
              "      <td>0.810000</td>\n",
              "    </tr>\n",
              "    <tr>\n",
              "      <td>650</td>\n",
              "      <td>0.052600</td>\n",
              "      <td>0.726097</td>\n",
              "      <td>0.830000</td>\n",
              "    </tr>\n",
              "    <tr>\n",
              "      <td>700</td>\n",
              "      <td>0.000700</td>\n",
              "      <td>0.843166</td>\n",
              "      <td>0.800000</td>\n",
              "    </tr>\n",
              "    <tr>\n",
              "      <td>750</td>\n",
              "      <td>0.004100</td>\n",
              "      <td>0.834151</td>\n",
              "      <td>0.860000</td>\n",
              "    </tr>\n",
              "    <tr>\n",
              "      <td>800</td>\n",
              "      <td>0.000200</td>\n",
              "      <td>0.624571</td>\n",
              "      <td>0.890000</td>\n",
              "    </tr>\n",
              "    <tr>\n",
              "      <td>850</td>\n",
              "      <td>0.009200</td>\n",
              "      <td>0.578360</td>\n",
              "      <td>0.890000</td>\n",
              "    </tr>\n",
              "    <tr>\n",
              "      <td>900</td>\n",
              "      <td>0.000100</td>\n",
              "      <td>0.605931</td>\n",
              "      <td>0.870000</td>\n",
              "    </tr>\n",
              "    <tr>\n",
              "      <td>950</td>\n",
              "      <td>0.000100</td>\n",
              "      <td>0.556116</td>\n",
              "      <td>0.860000</td>\n",
              "    </tr>\n",
              "    <tr>\n",
              "      <td>1000</td>\n",
              "      <td>0.000100</td>\n",
              "      <td>0.548253</td>\n",
              "      <td>0.850000</td>\n",
              "    </tr>\n",
              "    <tr>\n",
              "      <td>1050</td>\n",
              "      <td>0.019200</td>\n",
              "      <td>0.567840</td>\n",
              "      <td>0.870000</td>\n",
              "    </tr>\n",
              "  </tbody>\n",
              "</table><p>"
            ],
            "text/plain": [
              "<IPython.core.display.HTML object>"
            ]
          },
          "metadata": {},
          "output_type": "display_data"
        }
      ],
      "source": [
        "# Fine-tune the model\n",
        "print(\"\\n\" + \"=\"*50)\n",
        "print(\"Starting training...\")\n",
        "print(\"=\"*50)\n",
        "\n",
        "train_result = trainer.train()"
      ]
    },
    {
      "cell_type": "code",
      "execution_count": 20,
      "metadata": {
        "colab": {
          "base_uri": "https://localhost:8080/",
          "height": 197,
          "referenced_widgets": [
            "c3121d8e009c4db78296e2a73d5800e4",
            "35835dbc32514fe388dd3fe5360fd50f",
            "e450f288f4ca4e1a9bd3f0ab155ce88f",
            "c7436b851f76416ab40b6ef43c4780ed",
            "db146f18196e4dbdbbb3f694557db523",
            "c7496070e557499481231b35e52cd690",
            "cc2d35fc4ea44e4d9591310452c07346",
            "7dc8bc4daac44b699176a9ccff1c4fa6",
            "6ae882ba719c4d2199ab51008e9e9231",
            "5d8a7c40e2de4419b986fabc5ce636e6",
            "2469715e0edb4a65a2694d4e6c1bd552",
            "809eff7f8e9747ca953bf3c9894f5fc0",
            "7e7d9818c6784adbae66281d5afe2b68",
            "2caa0f8824b040cfb30bcd941982026f",
            "402c9048de684d8fa05432a23a3cbf31",
            "81438e231ad44f18ad2f065a8bc3d491",
            "58fb1592e0bf4266a50f67308c5f6309",
            "4b5ca48b799e4c54808c913f6bb0915f",
            "aeb6bc3848f14b7bab64cefa8586f134",
            "b836f4c66476480a8d09771fd1d7a07d",
            "5ae129a5c95d4a2eba40ce20364e0c53",
            "72860f96f87c4f46b4efc3c200d34ec2",
            "28262b65a1da41cdb60889828719e446",
            "94bd38dcbdff40c6b90ceb48c876661e",
            "407fca65a1734af08fe859b8750bf5a5",
            "3260959875bd46ef9666a8be534437aa",
            "379b830287d148e291b08380d48ddb0d",
            "3a36f97daf0f457385c1e6115748768a",
            "419a231c869a4aa19afbc7e3e35b95ce",
            "0974a69b35ee42fdb2c48a07fd8a1037",
            "e179d8e3b012452e9a357076ac99244a",
            "fdde4846569f40efb00d80b11c39feb2",
            "ed752434325c451aa884542c183cad5e",
            "62b62024b82a4ae2a1e25cd6b932c459",
            "fe83a7bfbf25433c843dd4b186d657e2",
            "f6c4377f42994c80a79a2cc81b27d57b",
            "f08d208ae62e45e49e95c48073d1deba",
            "8c16b63b97fd4d34a539e83f61674c42",
            "342db6cd66644d23b08bd080defda644",
            "84bab5351acc41ec9fd805dfd1e92de5",
            "16dcf28bb39745628a1b32bf2565d370",
            "f8bd400aeb614095bc2f38c5d781de9a",
            "bcd08adc2dcb48579ac2b752678206d3",
            "91af5321e10d49f59d0e680d923b697a"
          ]
        },
        "executionInfo": {
          "elapsed": 12167,
          "status": "ok",
          "timestamp": 1755026986935,
          "user": {
            "displayName": "Walt Dangerfield",
            "userId": "14391938691902978960"
          },
          "user_tz": -120
        },
        "id": "GU9fkqn0lvlm",
        "outputId": "c85745ea-68ad-47b1-8189-7f366124f319"
      },
      "outputs": [
        {
          "data": {
            "application/vnd.jupyter.widget-view+json": {
              "model_id": "c3121d8e009c4db78296e2a73d5800e4",
              "version_major": 2,
              "version_minor": 0
            },
            "text/plain": [
              "Processing Files (0 / 0)                : |          |  0.00B /  0.00B            "
            ]
          },
          "metadata": {},
          "output_type": "display_data"
        },
        {
          "data": {
            "application/vnd.jupyter.widget-view+json": {
              "model_id": "809eff7f8e9747ca953bf3c9894f5fc0",
              "version_major": 2,
              "version_minor": 0
            },
            "text/plain": [
              "New Data Upload                         : |          |  0.00B /  0.00B            "
            ]
          },
          "metadata": {},
          "output_type": "display_data"
        },
        {
          "data": {
            "application/vnd.jupyter.widget-view+json": {
              "model_id": "28262b65a1da41cdb60889828719e446",
              "version_major": 2,
              "version_minor": 0
            },
            "text/plain": [
              "  ...3-finetuned-gtzan/training_args.bin: 100%|##########| 5.37kB / 5.37kB            "
            ]
          },
          "metadata": {},
          "output_type": "display_data"
        },
        {
          "data": {
            "application/vnd.jupyter.widget-view+json": {
              "model_id": "62b62024b82a4ae2a1e25cd6b932c459",
              "version_major": 2,
              "version_minor": 0
            },
            "text/plain": [
              "  ...3-finetuned-gtzan/model.safetensors:  10%|9         | 33.5MB /  345MB            "
            ]
          },
          "metadata": {},
          "output_type": "display_data"
        },
        {
          "data": {
            "application/vnd.google.colaboratory.intrinsic+json": {
              "type": "string"
            },
            "text/plain": [
              "CommitInfo(commit_url='https://huggingface.co/arsonor/ast-finetuned-audioset-10-10-0.4593-finetuned-gtzan/commit/76f6ae620738f3fd41b7d25a4989f7a63d0ded69', commit_message='End of training', commit_description='', oid='76f6ae620738f3fd41b7d25a4989f7a63d0ded69', pr_url=None, repo_url=RepoUrl('https://huggingface.co/arsonor/ast-finetuned-audioset-10-10-0.4593-finetuned-gtzan', endpoint='https://huggingface.co', repo_type='model', repo_id='arsonor/ast-finetuned-audioset-10-10-0.4593-finetuned-gtzan'), pr_revision=None, pr_num=None)"
            ]
          },
          "execution_count": 20,
          "metadata": {},
          "output_type": "execute_result"
        }
      ],
      "source": [
        "model_id = \"MIT/ast-finetuned-audioset-10-10-0.4593\"\n",
        "\n",
        "kwargs = {\n",
        "    \"dataset_tags\": \"marsyas/gtzan\",\n",
        "    \"dataset\": \"GTZAN\",\n",
        "    \"model_name\": f\"{model_name}-finetuned-gtzan\",\n",
        "    \"finetuned_from\": model_id,\n",
        "    \"tasks\": \"audio-classification\",\n",
        "}\n",
        "\n",
        "trainer.push_to_hub(**kwargs)"
      ]
    },
    {
      "cell_type": "code",
      "execution_count": 21,
      "metadata": {
        "colab": {
          "base_uri": "https://localhost:8080/",
          "height": 141
        },
        "executionInfo": {
          "elapsed": 9451,
          "status": "ok",
          "timestamp": 1755027150676,
          "user": {
            "displayName": "Walt Dangerfield",
            "userId": "14391938691902978960"
          },
          "user_tz": -120
        },
        "id": "iPrVj4R4xNJD",
        "outputId": "1a362e6f-9207-4a82-c2ca-8b32d1ce81f2"
      },
      "outputs": [
        {
          "name": "stdout",
          "output_type": "stream",
          "text": [
            "\n",
            "==================================================\n",
            "Evaluating on test set...\n",
            "==================================================\n"
          ]
        },
        {
          "data": {
            "text/html": [
              "\n",
              "    <div>\n",
              "      \n",
              "      <progress value='13' max='13' style='width:300px; height:20px; vertical-align: middle;'></progress>\n",
              "      [13/13 00:08]\n",
              "    </div>\n",
              "    "
            ],
            "text/plain": [
              "<IPython.core.display.HTML object>"
            ]
          },
          "metadata": {},
          "output_type": "display_data"
        },
        {
          "name": "stdout",
          "output_type": "stream",
          "text": [
            "\n",
            "Test Accuracy: 0.8300\n"
          ]
        }
      ],
      "source": [
        "# Evaluate on test set\n",
        "print(\"\\n\" + \"=\"*50)\n",
        "print(\"Evaluating on test set...\")\n",
        "print(\"=\"*50)\n",
        "\n",
        "test_results = trainer.evaluate(eval_dataset=test_dataset)\n",
        "print(f\"\\nTest Accuracy: {test_results['eval_accuracy']:.4f}\")"
      ]
    },
    {
      "cell_type": "code",
      "execution_count": 22,
      "metadata": {
        "colab": {
          "base_uri": "https://localhost:8080/",
          "height": 17
        },
        "executionInfo": {
          "elapsed": 11577,
          "status": "ok",
          "timestamp": 1755027186239,
          "user": {
            "displayName": "Walt Dangerfield",
            "userId": "14391938691902978960"
          },
          "user_tz": -120
        },
        "id": "uNk2mxCMxSZy",
        "outputId": "797b6983-4aad-4cc0-bcb0-4ba1c3add1c7"
      },
      "outputs": [
        {
          "data": {
            "text/html": [],
            "text/plain": [
              "<IPython.core.display.HTML object>"
            ]
          },
          "metadata": {},
          "output_type": "display_data"
        }
      ],
      "source": [
        "# Get detailed predictions for analysis\n",
        "predictions = trainer.predict(test_dataset)\n",
        "y_pred = np.argmax(predictions.predictions, axis=1)\n",
        "y_true = predictions.label_ids"
      ]
    },
    {
      "cell_type": "code",
      "execution_count": 23,
      "metadata": {
        "colab": {
          "base_uri": "https://localhost:8080/"
        },
        "executionInfo": {
          "elapsed": 60,
          "status": "ok",
          "timestamp": 1755027200893,
          "user": {
            "displayName": "Walt Dangerfield",
            "userId": "14391938691902978960"
          },
          "user_tz": -120
        },
        "id": "PzbeAkmOxc9M",
        "outputId": "7c8f94c9-9fb5-4535-b30f-a97aab512532"
      },
      "outputs": [
        {
          "name": "stdout",
          "output_type": "stream",
          "text": [
            "\n",
            "==================================================\n",
            "Classification Report:\n",
            "==================================================\n",
            "              precision    recall  f1-score   support\n",
            "\n",
            "       blues       0.73      1.00      0.84         8\n",
            "   classical       1.00      1.00      1.00        15\n",
            "     country       0.86      0.55      0.67        11\n",
            "       disco       0.88      0.70      0.78        10\n",
            "      hiphop       0.73      1.00      0.84         8\n",
            "        jazz       1.00      1.00      1.00         9\n",
            "       metal       0.80      1.00      0.89         8\n",
            "         pop       0.56      0.83      0.67         6\n",
            "      reggae       1.00      0.75      0.86        12\n",
            "        rock       0.73      0.62      0.67        13\n",
            "\n",
            "    accuracy                           0.83       100\n",
            "   macro avg       0.83      0.84      0.82       100\n",
            "weighted avg       0.85      0.83      0.83       100\n",
            "\n"
          ]
        }
      ],
      "source": [
        "# Print classification report\n",
        "print(\"\\n\" + \"=\"*50)\n",
        "print(\"Classification Report:\")\n",
        "print(\"=\"*50)\n",
        "print(classification_report(y_true, y_pred, target_names=labels))"
      ]
    },
    {
      "cell_type": "code",
      "execution_count": 24,
      "metadata": {
        "colab": {
          "base_uri": "https://localhost:8080/"
        },
        "executionInfo": {
          "elapsed": 11,
          "status": "ok",
          "timestamp": 1755027251618,
          "user": {
            "displayName": "Walt Dangerfield",
            "userId": "14391938691902978960"
          },
          "user_tz": -120
        },
        "id": "TTBRFl_6xmWD",
        "outputId": "6e161b08-56cf-4ae3-f729-d708ae18e88d"
      },
      "outputs": [
        {
          "name": "stdout",
          "output_type": "stream",
          "text": [
            "\n",
            "==================================================\n",
            "Confusion Matrix:\n",
            "==================================================\n",
            "\n",
            "Rows: Actual labels, Columns: Predicted labels\n",
            "Labels: ['blues', 'classical', 'country', 'disco', 'hiphop', 'jazz', 'metal', 'pop', 'reggae', 'rock']\n",
            "[[ 8  0  0  0  0  0  0  0  0  0]\n",
            " [ 0 15  0  0  0  0  0  0  0  0]\n",
            " [ 2  0  6  1  0  0  0  0  0  2]\n",
            " [ 0  0  0  7  0  0  0  3  0  0]\n",
            " [ 0  0  0  0  8  0  0  0  0  0]\n",
            " [ 0  0  0  0  0  9  0  0  0  0]\n",
            " [ 0  0  0  0  0  0  8  0  0  0]\n",
            " [ 0  0  0  0  1  0  0  5  0  0]\n",
            " [ 0  0  0  0  1  0  0  1  9  1]\n",
            " [ 1  0  1  0  1  0  2  0  0  8]]\n"
          ]
        }
      ],
      "source": [
        "# Confusion matrix\n",
        "print(\"\\n\" + \"=\"*50)\n",
        "print(\"Confusion Matrix:\")\n",
        "print(\"=\"*50)\n",
        "cm = confusion_matrix(y_true, y_pred)\n",
        "print(\"\\nRows: Actual labels, Columns: Predicted labels\")\n",
        "print(f\"Labels: {labels}\")\n",
        "print(cm)"
      ]
    },
    {
      "cell_type": "code",
      "execution_count": 25,
      "metadata": {
        "colab": {
          "base_uri": "https://localhost:8080/"
        },
        "executionInfo": {
          "elapsed": 35,
          "status": "ok",
          "timestamp": 1755027285092,
          "user": {
            "displayName": "Walt Dangerfield",
            "userId": "14391938691902978960"
          },
          "user_tz": -120
        },
        "id": "K8rJ6WkJxxf8",
        "outputId": "4fa6fc70-1425-43ac-f35c-8a01ee0f077f"
      },
      "outputs": [
        {
          "name": "stdout",
          "output_type": "stream",
          "text": [
            "\n",
            "==================================================\n",
            "Per-Genre Accuracy:\n",
            "==================================================\n",
            "blues          : 1.0000\n",
            "classical      : 1.0000\n",
            "country        : 0.5455\n",
            "disco          : 0.7000\n",
            "hiphop         : 1.0000\n",
            "jazz           : 1.0000\n",
            "metal          : 1.0000\n",
            "pop            : 0.8333\n",
            "reggae         : 0.7500\n",
            "rock           : 0.6154\n"
          ]
        }
      ],
      "source": [
        "# Per-genre accuracy\n",
        "print(\"\\n\" + \"=\"*50)\n",
        "print(\"Per-Genre Accuracy:\")\n",
        "print(\"=\"*50)\n",
        "for i, genre in enumerate(labels):\n",
        "    genre_mask = y_true == i\n",
        "    if genre_mask.sum() > 0:\n",
        "        genre_acc = (y_pred[genre_mask] == i).mean()\n",
        "        print(f\"{genre:15s}: {genre_acc:.4f}\")"
      ]
    },
    {
      "cell_type": "code",
      "execution_count": 26,
      "metadata": {
        "colab": {
          "base_uri": "https://localhost:8080/"
        },
        "executionInfo": {
          "elapsed": 48,
          "status": "ok",
          "timestamp": 1755027342302,
          "user": {
            "displayName": "Walt Dangerfield",
            "userId": "14391938691902978960"
          },
          "user_tz": -120
        },
        "id": "eUCt6SMox6I2",
        "outputId": "b3c0a480-ca4a-4211-b74b-812aa56871c6"
      },
      "outputs": [
        {
          "name": "stdout",
          "output_type": "stream",
          "text": [
            "\n",
            "==================================================\n",
            "Training Summary:\n",
            "==================================================\n",
            "Total training steps: 1050\n",
            "Final training loss: 0.1464\n",
            "Final test accuracy: 0.8300\n"
          ]
        }
      ],
      "source": [
        "# Training summary\n",
        "print(\"\\n\" + \"=\"*50)\n",
        "print(\"Training Summary:\")\n",
        "print(\"=\"*50)\n",
        "print(f\"Total training steps: {train_result.global_step}\")\n",
        "print(f\"Final training loss: {train_result.training_loss:.4f}\")\n",
        "print(f\"Final test accuracy: {test_results['eval_accuracy']:.4f}\")"
      ]
    },
    {
      "cell_type": "code",
      "execution_count": 27,
      "metadata": {
        "colab": {
          "base_uri": "https://localhost:8080/"
        },
        "executionInfo": {
          "elapsed": 46,
          "status": "ok",
          "timestamp": 1755027387232,
          "user": {
            "displayName": "Walt Dangerfield",
            "userId": "14391938691902978960"
          },
          "user_tz": -120
        },
        "id": "KF3hKrg2yKU1",
        "outputId": "98f2f72d-1a14-4d69-bde9-841f75251f6d"
      },
      "outputs": [
        {
          "name": "stdout",
          "output_type": "stream",
          "text": [
            "\n",
            "==================================================\n",
            "Tips for Further Improvement (if needed):\n",
            "==================================================\n",
            "\n",
            "1. Data Augmentation: Consider using audiomentations library for:\n",
            "   - Time stretching\n",
            "   - Pitch shifting\n",
            "   - Adding noise\n",
            "   - Mix-up augmentation\n",
            "\n",
            "2. Model Ensemble: Train multiple models with different seeds and average predictions\n",
            "\n",
            "3. Longer Training: Increase num_train_epochs if model hasn't converged\n",
            "\n",
            "4. Hyperparameter Tuning: Use Optuna or Ray Tune for systematic search\n",
            "\n",
            "5. Alternative Models to Try:\n",
            "   - Wav2Vec2 large model\n",
            "   - HuBERT large model\n",
            "   - Whisper for feature extraction\n",
            "\n",
            "6. Post-processing: Use test-time augmentation (TTA) by averaging predictions\n",
            "   from multiple augmented versions of test samples\n",
            "\n"
          ]
        }
      ],
      "source": [
        "# Additional tips for reaching 87% accuracy\n",
        "print(\"\\n\" + \"=\"*50)\n",
        "print(\"Tips for Further Improvement (if needed):\")\n",
        "print(\"=\"*50)\n",
        "print(\"\"\"\n",
        "1. Data Augmentation: Consider using audiomentations library for:\n",
        "   - Time stretching\n",
        "   - Pitch shifting\n",
        "   - Adding noise\n",
        "   - Mix-up augmentation\n",
        "\n",
        "2. Model Ensemble: Train multiple models with different seeds and average predictions\n",
        "\n",
        "3. Longer Training: Increase num_train_epochs if model hasn't converged\n",
        "\n",
        "4. Hyperparameter Tuning: Use Optuna or Ray Tune for systematic search\n",
        "\n",
        "5. Alternative Models to Try:\n",
        "   - Wav2Vec2 large model\n",
        "   - HuBERT large model\n",
        "   - Whisper for feature extraction\n",
        "\n",
        "6. Post-processing: Use test-time augmentation (TTA) by averaging predictions\n",
        "   from multiple augmented versions of test samples\n",
        "\"\"\")"
      ]
    },
    {
      "cell_type": "code",
      "execution_count": null,
      "metadata": {
        "id": "ZtjLXoIEyMSV"
      },
      "outputs": [],
      "source": []
    }
  ],
  "metadata": {
    "accelerator": "GPU",
    "colab": {
      "authorship_tag": "ABX9TyPBd6HI87I1IduTCVn4DWXB",
      "gpuType": "T4",
      "provenance": []
    },
    "kernelspec": {
      "display_name": "Python 3",
      "name": "python3"
    },
    "language_info": {
      "name": "python"
    }
  },
  "nbformat": 4,
  "nbformat_minor": 0
}
